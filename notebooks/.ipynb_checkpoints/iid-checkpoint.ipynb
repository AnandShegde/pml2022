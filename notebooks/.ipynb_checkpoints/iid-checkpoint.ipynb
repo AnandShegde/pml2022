{
 "cells": [
  {
   "cell_type": "code",
   "execution_count": 5,
   "id": "74b53d9d",
   "metadata": {},
   "outputs": [],
   "source": [
    "import tensorflow_probability.substrates.jax as tfp\n",
    "import jax\n",
    "import jax.numpy as jnp\n",
    "import numpy as np"
   ]
  },
  {
   "cell_type": "code",
   "execution_count": 6,
   "id": "c53588ba",
   "metadata": {},
   "outputs": [],
   "source": [
    "dist = tfp.distributions"
   ]
  },
  {
   "cell_type": "code",
   "execution_count": 7,
   "id": "457e3292",
   "metadata": {},
   "outputs": [],
   "source": [
    "bern  = dist.Bernoulli(probs = 0.4)"
   ]
  },
  {
   "cell_type": "code",
   "execution_count": 9,
   "id": "47aa9bcd",
   "metadata": {},
   "outputs": [
    {
     "name": "stdout",
     "output_type": "stream",
     "text": [
      "34.0\n"
     ]
    }
   ],
   "source": [
    "N_samples = 100\n",
    "out = np.empty(N_samples)\n",
    "for i in range(N_samples):\n",
    "    out[i] = bern.sample(seed = jax.random.PRNGKey(i)).item()\n",
    "print(out.sum())"
   ]
  }
 ],
 "metadata": {
  "kernelspec": {
   "display_name": "Python 3 (ipykernel)",
   "language": "python",
   "name": "python3"
  },
  "language_info": {
   "codemirror_mode": {
    "name": "ipython",
    "version": 3
   },
   "file_extension": ".py",
   "mimetype": "text/x-python",
   "name": "python",
   "nbconvert_exporter": "python",
   "pygments_lexer": "ipython3",
   "version": "3.9.13"
  }
 },
 "nbformat": 4,
 "nbformat_minor": 5
}
