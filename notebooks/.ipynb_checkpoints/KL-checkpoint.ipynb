{
 "cells": [
  {
   "cell_type": "code",
   "execution_count": 2,
   "id": "939a664b",
   "metadata": {},
   "outputs": [],
   "source": [
    "import jax\n",
    "import logging\n",
    "# again, this only works on startup!\n",
    "from jax.config import config\n",
    "config.update(\"jax_enable_x64\", True)\n",
    "# this prints a WARNING\n",
    "\n",
    "\n",
    "import tensorflow_probability.substrates.jax as tfp\n",
    "\n",
    "logger = logging.getLogger(\"root\")\n",
    "\n",
    "\n",
    "class CheckTypesFilter(logging.Filter):\n",
    "    def filter(self, record):\n",
    "        return \"check_types\" not in record.getMessage()\n",
    "\n",
    "\n",
    "logger.addFilter(CheckTypesFilter())\n",
    "import tensorflow_probability.substrates.jax as tfp\n",
    "import matplotlib.pyplot as plt\n",
    "import jax.numpy as jnp\n",
    "import numpy as np\n",
    "import pandas as pd"
   ]
  },
  {
   "cell_type": "code",
   "execution_count": 3,
   "id": "b5350513",
   "metadata": {},
   "outputs": [],
   "source": [
    "tfd = tfp.distributions"
   ]
  },
  {
   "cell_type": "code",
   "execution_count": 4,
   "id": "bdbcb3d3",
   "metadata": {},
   "outputs": [],
   "source": [
    "theta_p = 0.6\n",
    "theta_q = 0.7\n",
    "p = tfd.Bernoulli(probs=theta_p)\n",
    "q = tfd.Bernoulli(probs=theta_q)"
   ]
  },
  {
   "cell_type": "markdown",
   "id": "a829a04a",
   "metadata": {},
   "source": [
    "#### Using TFP"
   ]
  },
  {
   "cell_type": "code",
   "execution_count": 5,
   "id": "00723728",
   "metadata": {},
   "outputs": [
    {
     "data": {
      "text/plain": [
       "DeviceArray(0.02160087, dtype=float32)"
      ]
     },
     "execution_count": 5,
     "metadata": {},
     "output_type": "execute_result"
    }
   ],
   "source": [
    "tfd.kl_divergence(q, p)"
   ]
  },
  {
   "cell_type": "markdown",
   "id": "811acfc1",
   "metadata": {},
   "source": [
    "#### Using derived formula"
   ]
  },
  {
   "cell_type": "code",
   "execution_count": 6,
   "id": "899dadf1",
   "metadata": {},
   "outputs": [
    {
     "data": {
      "text/plain": [
       "DeviceArray(0.02160085, dtype=float64, weak_type=True)"
      ]
     },
     "execution_count": 6,
     "metadata": {},
     "output_type": "execute_result"
    }
   ],
   "source": [
    "(1 - theta_q) * jnp.log((1 - theta_q) / (1 - theta_p)) + theta_q * jnp.log(\n",
    "    (theta_q / theta_p)\n",
    ")"
   ]
  },
  {
   "cell_type": "markdown",
   "id": "c1bddf16",
   "metadata": {},
   "source": [
    "#### using Monte Carlo"
   ]
  },
  {
   "cell_type": "code",
   "execution_count": 7,
   "id": "36c0aa5e",
   "metadata": {},
   "outputs": [],
   "source": [
    "n_samples = 1000\n",
    "q_samples = q.sample(sample_shape=(n_samples,), seed=jax.random.PRNGKey(1))"
   ]
  },
  {
   "cell_type": "code",
   "execution_count": 8,
   "id": "d158e362",
   "metadata": {},
   "outputs": [
    {
     "data": {
      "text/plain": [
       "DeviceArray(708, dtype=int64)"
      ]
     },
     "execution_count": 8,
     "metadata": {},
     "output_type": "execute_result"
    }
   ],
   "source": [
    "q_samples.sum()"
   ]
  },
  {
   "cell_type": "code",
   "execution_count": 9,
   "id": "bbdab6d1",
   "metadata": {},
   "outputs": [
    {
     "data": {
      "text/plain": [
       "DeviceArray(0.02513552, dtype=float32)"
      ]
     },
     "execution_count": 9,
     "metadata": {},
     "output_type": "execute_result"
    }
   ],
   "source": [
    "jnp.log(q.prob(q_samples) / p.prob(q_samples)).mean()"
   ]
  },
  {
   "cell_type": "markdown",
   "id": "348f880c",
   "metadata": {},
   "source": [
    "#### Monte Carlo more stable"
   ]
  },
  {
   "cell_type": "code",
   "execution_count": 10,
   "id": "d2bb07c9",
   "metadata": {},
   "outputs": [
    {
     "data": {
      "text/plain": [
       "DeviceArray(0.02513547, dtype=float32)"
      ]
     },
     "execution_count": 10,
     "metadata": {},
     "output_type": "execute_result"
    }
   ],
   "source": [
    "(q.log_prob(q_samples) - p.log_prob(q_samples)).mean()"
   ]
  },
  {
   "cell_type": "code",
   "execution_count": 11,
   "id": "11d2a657",
   "metadata": {},
   "outputs": [],
   "source": [
    "estimate = {}\n",
    "for n_samples in np.power(10, jnp.array([0, 1, 2, 3, 4, 5, 6])):\n",
    "    q_samples = q.sample(sample_shape=(n_samples,), seed=jax.random.PRNGKey(n_samples))\n",
    "    estimate[n_samples] = (q.log_prob(q_samples) - p.log_prob(q_samples)).mean().item()"
   ]
  },
  {
   "cell_type": "code",
   "execution_count": 12,
   "id": "e6903c5b",
   "metadata": {},
   "outputs": [
    {
     "data": {
      "text/plain": [
       "<matplotlib.lines.Line2D at 0x1a8c78610>"
      ]
     },
     "execution_count": 12,
     "metadata": {},
     "output_type": "execute_result"
    },
    {
     "data": {
      "image/png": "[encoded data removed]",
      "text/plain": [
       "<Figure size 432x288 with 1 Axes>"
      ]
     },
     "metadata": {
      "needs_background": "light"
     },
     "output_type": "display_data"
    }
   ],
   "source": [
    "pd.Series(estimate).plot(logx=True, lw=2, marker='o')\n",
    "plt.axhline(tfd.kl_divergence(q, p), color=\"k\")"
   ]
  },
  {
   "cell_type": "markdown",
   "id": "01e28a0d",
   "metadata": {},
   "source": [
    "#### Plotting $D_{KL}(q||p)$ as a function of $\\theta_q$"
   ]
  },
  {
   "cell_type": "code",
   "execution_count": 13,
   "id": "885471e6",
   "metadata": {},
   "outputs": [],
   "source": [
    "theta_q_range = jnp.linspace(0.01, 0.99, 100)"
   ]
  },
  {
   "cell_type": "code",
   "execution_count": 14,
   "id": "2bfa57d7",
   "metadata": {},
   "outputs": [
    {
     "data": {
      "text/plain": [
       "<matplotlib.lines.Line2D at 0x1a8c27130>"
      ]
     },
     "execution_count": 14,
     "metadata": {},
     "output_type": "execute_result"
    },
    {
     "data": {
      "image/png": "[encoded data removed]",
      "text/plain": [
       "<Figure size 432x288 with 1 Axes>"
      ]
     },
     "metadata": {
      "needs_background": "light"
     },
     "output_type": "display_data"
    }
   ],
   "source": [
    "plt.plot(theta_q_range, tfd.kl_divergence(tfd.Bernoulli(probs=theta_q_range), p))\n",
    "plt.axvline(p.probs, color=\"k\")"
   ]
  },
  {
   "cell_type": "code",
   "execution_count": 15,
   "id": "bc477a33",
   "metadata": {},
   "outputs": [
    {
     "data": {
      "text/plain": [
       "<matplotlib.lines.Line2D at 0x1a9240400>"
      ]
     },
     "execution_count": 15,
     "metadata": {},
     "output_type": "execute_result"
    },
    {
     "data": {
      "image/png": "[encoded data removed]",
      "text/plain": [
       "<Figure size 432x288 with 1 Axes>"
      ]
     },
     "metadata": {
      "needs_background": "light"
     },
     "output_type": "display_data"
    }
   ],
   "source": [
    "plt.plot(theta_q_range, tfd.kl_divergence(p, tfd.Bernoulli(probs=theta_q_range)))\n",
    "plt.axvline(p.probs, color=\"k\")"
   ]
  },
  {
   "cell_type": "code",
   "execution_count": 16,
   "id": "ae353ac9",
   "metadata": {},
   "outputs": [],
   "source": [
    "def loss(tq):\n",
    "    return tfd.kl_divergence(tfd.Bernoulli(probs=tq), p)"
   ]
  },
  {
   "cell_type": "code",
   "execution_count": 17,
   "id": "ef8e2e8a",
   "metadata": {},
   "outputs": [
    {
     "data": {
      "text/plain": [
       "DeviceArray(-0.40546519, dtype=float64, weak_type=True)"
      ]
     },
     "execution_count": 17,
     "metadata": {},
     "output_type": "execute_result"
    }
   ],
   "source": [
    "jax.grad(loss)(jnp.array(0.5))"
   ]
  },
  {
   "cell_type": "code",
   "execution_count": 18,
   "id": "0bdbc870",
   "metadata": {},
   "outputs": [
    {
     "name": "stdout",
     "output_type": "stream",
     "text": [
      "0 0.550661320983733 0.12602689762978464\n",
      "10 0.20074159492932603 0.29996458932458103\n",
      "20 0.08575215232863143 0.4026829902635186\n",
      "30 0.03764614145692613 0.4694201090133754\n",
      "40 0.016559566283666283 0.5136463300072819\n",
      "50 0.007247840033171193 0.5430336829123902\n",
      "60 0.003152843454241161 0.5625151041236868\n",
      "70 0.001364192339953274 0.5753856955126079\n",
      "80 0.0005878679384244689 0.5838623980664878\n",
      "90 0.00025257736779210616 0.58943166302931\n",
      "100 0.0001082919642944602 0.593084230226732\n",
      "110 4.638353982355792e-05 0.595476772256865\n",
      "120 1.9859522989940093e-05 0.5970426331834114\n",
      "130 8.523011873429187e-06 0.5980668684527639\n",
      "140 3.6702022986334626e-06 0.5987365709159119\n",
      "150 1.5898531884328548e-06 0.5991743503995356\n",
      "160 6.723457026125423e-07 0.599460476431887\n",
      "170 3.106076260639412e-07 0.5996474638412596\n",
      "180 1.3943541438132812e-07 0.5997696540942475\n",
      "190 8.557667779962586e-08 0.599849497784522\n",
      "200 7.566195597830117e-08 0.5999016690590974\n"
     ]
    }
   ],
   "source": [
    "tq = 0.1\n",
    "lr = 0.01\n",
    "for i in range(201):\n",
    "    l, delta = jax.value_and_grad(loss)(tq)\n",
    "    tq = tq - lr * delta\n",
    "    if i % 10 == 0:\n",
    "        print(i, l, tq)"
   ]
  },
  {
   "cell_type": "code",
   "execution_count": 19,
   "id": "0bddccc7",
   "metadata": {},
   "outputs": [],
   "source": [
    "p_mix = tfd.MixtureSameFamily(\n",
    "    mixture_distribution=tfd.Categorical(probs=[0.3, 0.7]),\n",
    "    components_distribution=tfd.Normal(\n",
    "        loc=[-1.0, 1], scale=[0.1, 0.5]  # One for each component.\n",
    "    ),\n",
    ")"
   ]
  },
  {
   "cell_type": "code",
   "execution_count": 25,
   "id": "63e759f5",
   "metadata": {},
   "outputs": [
    {
     "data": {
      "text/plain": [
       "[<matplotlib.lines.Line2D at 0x1ab2a8f70>]"
      ]
     },
     "execution_count": 25,
     "metadata": {},
     "output_type": "execute_result"
    },
    {
     "data": {
      "image/png": "[encoded data removed]",
      "text/plain": [
       "<Figure size 432x288 with 1 Axes>"
      ]
     },
     "metadata": {
      "needs_background": "light"
     },
     "output_type": "display_data"
    }
   ],
   "source": [
    "x_lims = jnp.linspace(-5, 5, 1000)\n",
    "plt.plot(x_lims, p_mix.prob(x_lims))"
   ]
  },
  {
   "cell_type": "code",
   "execution_count": 26,
   "id": "879e0faa",
   "metadata": {},
   "outputs": [],
   "source": [
    "def loss_2(mean, logscale):\n",
    "    norm = tfd.Normal(loc = mean, scale=jnp.exp(logscale))\n",
    "    return tfd.kl_divergence(norm, p_mix)"
   ]
  },
  {
   "cell_type": "code",
   "execution_count": 27,
   "id": "552c0dfb",
   "metadata": {},
   "outputs": [
    {
     "ename": "NotImplementedError",
     "evalue": "No KL(distribution_a || distribution_b) registered for distribution_a type Normal and distribution_b type MixtureSameFamily",
     "output_type": "error",
     "traceback": [
      "\u001b[0;31m---------------------------------------------------------------------------\u001b[0m",
      "\u001b[0;31mNotImplementedError\u001b[0m                       Traceback (most recent call last)",
      "Input \u001b[0;32mIn [27]\u001b[0m, in \u001b[0;36m<cell line: 1>\u001b[0;34m()\u001b[0m\n\u001b[0;32m----> 1\u001b[0m l, delta \u001b[38;5;241m=\u001b[39m \u001b[43mjax\u001b[49m\u001b[38;5;241;43m.\u001b[39;49m\u001b[43mvalue_and_grad\u001b[49m\u001b[43m(\u001b[49m\u001b[43mloss_2\u001b[49m\u001b[43m)\u001b[49m\u001b[43m(\u001b[49m\u001b[38;5;241;43m0.0\u001b[39;49m\u001b[43m,\u001b[49m\u001b[43m \u001b[49m\u001b[38;5;241;43m1.\u001b[39;49m\u001b[43m)\u001b[49m\n",
      "    \u001b[0;31m[... skipping hidden 8 frame]\u001b[0m\n",
      "Input \u001b[0;32mIn [26]\u001b[0m, in \u001b[0;36mloss_2\u001b[0;34m(mean, logscale)\u001b[0m\n\u001b[1;32m      1\u001b[0m \u001b[38;5;28;01mdef\u001b[39;00m \u001b[38;5;21mloss_2\u001b[39m(mean, logscale):\n\u001b[1;32m      2\u001b[0m     norm \u001b[38;5;241m=\u001b[39m tfd\u001b[38;5;241m.\u001b[39mNormal(loc \u001b[38;5;241m=\u001b[39m mean, scale\u001b[38;5;241m=\u001b[39mjnp\u001b[38;5;241m.\u001b[39mexp(logscale))\n\u001b[0;32m----> 3\u001b[0m     \u001b[38;5;28;01mreturn\u001b[39;00m \u001b[43mtfd\u001b[49m\u001b[38;5;241;43m.\u001b[39;49m\u001b[43mkl_divergence\u001b[49m\u001b[43m(\u001b[49m\u001b[43mnorm\u001b[49m\u001b[43m,\u001b[49m\u001b[43m \u001b[49m\u001b[43mp_mix\u001b[49m\u001b[43m)\u001b[49m\n",
      "File \u001b[0;32m~/miniconda3/lib/python3.9/site-packages/tensorflow_probability/substrates/jax/distributions/kullback_leibler.py:89\u001b[0m, in \u001b[0;36mkl_divergence\u001b[0;34m(distribution_a, distribution_b, allow_nan_stats, name)\u001b[0m\n\u001b[1;32m     87\u001b[0m kl_fn \u001b[38;5;241m=\u001b[39m _registered_kl(distribution_a\u001b[38;5;241m.\u001b[39m\u001b[38;5;18m__class__\u001b[39m, distribution_b\u001b[38;5;241m.\u001b[39m\u001b[38;5;18m__class__\u001b[39m)\n\u001b[1;32m     88\u001b[0m \u001b[38;5;28;01mif\u001b[39;00m kl_fn \u001b[38;5;129;01mis\u001b[39;00m \u001b[38;5;28;01mNone\u001b[39;00m:\n\u001b[0;32m---> 89\u001b[0m   \u001b[38;5;28;01mraise\u001b[39;00m \u001b[38;5;167;01mNotImplementedError\u001b[39;00m(\n\u001b[1;32m     90\u001b[0m       \u001b[38;5;124m\"\u001b[39m\u001b[38;5;124mNo KL(distribution_a || distribution_b) registered for distribution_a \u001b[39m\u001b[38;5;124m\"\u001b[39m\n\u001b[1;32m     91\u001b[0m       \u001b[38;5;124m\"\u001b[39m\u001b[38;5;124mtype \u001b[39m\u001b[38;5;132;01m{}\u001b[39;00m\u001b[38;5;124m and distribution_b type \u001b[39m\u001b[38;5;132;01m{}\u001b[39;00m\u001b[38;5;124m\"\u001b[39m\u001b[38;5;241m.\u001b[39mformat(\n\u001b[1;32m     92\u001b[0m           distribution_a\u001b[38;5;241m.\u001b[39m\u001b[38;5;18m__class__\u001b[39m\u001b[38;5;241m.\u001b[39m\u001b[38;5;18m__name__\u001b[39m,\n\u001b[1;32m     93\u001b[0m           distribution_b\u001b[38;5;241m.\u001b[39m\u001b[38;5;18m__class__\u001b[39m\u001b[38;5;241m.\u001b[39m\u001b[38;5;18m__name__\u001b[39m))\n\u001b[1;32m     95\u001b[0m name \u001b[38;5;241m=\u001b[39m name \u001b[38;5;129;01mor\u001b[39;00m \u001b[38;5;124m\"\u001b[39m\u001b[38;5;124mKullbackLeibler\u001b[39m\u001b[38;5;124m\"\u001b[39m\n\u001b[1;32m     96\u001b[0m \u001b[38;5;28;01mwith\u001b[39;00m tf\u001b[38;5;241m.\u001b[39mname_scope(name):\n\u001b[1;32m     97\u001b[0m   \u001b[38;5;66;03m# pylint: disable=protected-access\u001b[39;00m\n",
      "\u001b[0;31mNotImplementedError\u001b[0m: No KL(distribution_a || distribution_b) registered for distribution_a type Normal and distribution_b type MixtureSameFamily"
     ]
    }
   ],
   "source": [
    "l, delta = jax.value_and_grad(loss_2)(0.0, 1.)"
   ]
  },
  {
   "cell_type": "code",
   "execution_count": 28,
   "id": "ef314b57",
   "metadata": {},
   "outputs": [],
   "source": [
    "def loss_3(mean, logscale):\n",
    "    n_samples = 500\n",
    "    q = tfd.Normal(loc = mean, scale=jnp.exp(logscale))\n",
    "    q_samples = q.sample(sample_shape=(n_samples,), seed=jax.random.PRNGKey(1))\n",
    "    l = (q.log_prob(q_samples) - p_mix.log_prob(q_samples)).mean()\n",
    "    return l"
   ]
  },
  {
   "cell_type": "code",
   "execution_count": 29,
   "id": "dbad0ad1",
   "metadata": {},
   "outputs": [
    {
     "name": "stdout",
     "output_type": "stream",
     "text": [
      "15.843606287373653\n"
     ]
    }
   ],
   "source": [
    "l, delta = jax.value_and_grad(loss_3)(0.0,1.0)\n",
    "print(l)"
   ]
  },
  {
   "cell_type": "code",
   "execution_count": 30,
   "id": "a1c9e60f",
   "metadata": {},
   "outputs": [],
   "source": [
    "def loss_4(mean, logscale):\n",
    "    n_samples = 500\n",
    "    q_std  = tfd.Normal(loc = 0.0, scale = 1.0)\n",
    "    q_std_samples = q_std.sample(sample_shape=(n_samples,), seed=jax.random.PRNGKey(1))\n",
    "    q = tfd.Normal(loc = mean, scale = jnp.exp(logscale))\n",
    "    q_samples = q_std_samples*jnp.exp(logscale) + mean\n",
    "\n",
    "    return (q.log_prob(q_samples) - p_mix.log_prob(q_samples)).mean()"
   ]
  },
  {
   "cell_type": "code",
   "execution_count": 31,
   "id": "51b1c70c",
   "metadata": {},
   "outputs": [],
   "source": [
    "def loss_4_student(mean, logscale, df):\n",
    "    n_samples = 500\n",
    "    q = tfd.StudentT(df = df, loc = mean, scale=jnp.exp(logscale))\n",
    "    q_samples = q.sample(sample_shape=(n_samples, ), seed=jax.random.PRNGKey(0))\n",
    "    return (q.log_prob(q_samples) - p_mix.log_prob(q_samples)).mean()"
   ]
  },
  {
   "cell_type": "code",
   "execution_count": 32,
   "id": "66e3f911",
   "metadata": {},
   "outputs": [
    {
     "data": {
      "text/plain": [
       "(DeviceArray(14.29064863, dtype=float64),\n",
       " DeviceArray(17.11251294, dtype=float64))"
      ]
     },
     "execution_count": 32,
     "metadata": {},
     "output_type": "execute_result"
    }
   ],
   "source": [
    "loss_4(0.0, 1.0), loss_4_student(0.0, 1.0, 21.1)"
   ]
  },
  {
   "cell_type": "code",
   "execution_count": 33,
   "id": "a9ad645b",
   "metadata": {},
   "outputs": [
    {
     "data": {
      "text/plain": [
       "DeviceArray(-5.46794995, dtype=float64, weak_type=True)"
      ]
     },
     "execution_count": 33,
     "metadata": {},
     "output_type": "execute_result"
    }
   ],
   "source": [
    "jax.grad(loss_4)(0.0,1.0)"
   ]
  },
  {
   "cell_type": "code",
   "execution_count": 34,
   "id": "289be770",
   "metadata": {},
   "outputs": [],
   "source": [
    "l, delta = jax.value_and_grad(loss_4, argnums=[0, 1])(0.0, 1.0, )"
   ]
  },
  {
   "cell_type": "code",
   "execution_count": 35,
   "id": "1e1cbeae",
   "metadata": {},
   "outputs": [
    {
     "data": {
      "text/plain": [
       "(DeviceArray(-5.46794995, dtype=float64, weak_type=True),\n",
       " DeviceArray(30.25537032, dtype=float64, weak_type=True))"
      ]
     },
     "execution_count": 35,
     "metadata": {},
     "output_type": "execute_result"
    }
   ],
   "source": [
    "delta"
   ]
  },
  {
   "cell_type": "code",
   "execution_count": 36,
   "id": "1ce16b87",
   "metadata": {},
   "outputs": [
    {
     "name": "stdout",
     "output_type": "stream",
     "text": [
      "0 14.2906486348586 0.05467949947084689 0.6974462968478233\n",
      "10 1.6220639646669237 0.30280098914259096 0.03058676451832522\n",
      "20 1.0529190629475758 0.45081454798002507 -0.1279525052809903\n",
      "30 0.7995833045314705 0.576557018359582 -0.2260498389279706\n",
      "40 0.5660198504336859 0.6959009661020947 -0.3190738528821833\n",
      "50 0.4498908562009583 0.7802334043140428 -0.37353048267689\n",
      "60 0.4125635931813449 0.8329109758981983 -0.3995261340194187\n",
      "70 0.3982365092000647 0.8664832447568244 -0.41300083927798026\n",
      "80 0.3914938271653192 0.8897409481605953 -0.42296631917454347\n",
      "90 0.3877122307006937 0.9065757059372539 -0.4316896492264997\n",
      "100 0.38553171982080253 0.9188172831183434 -0.4393742234536236\n",
      "110 0.3840604239502194 0.9281999004236767 -0.4468549893280133\n",
      "120 0.3827338784315225 0.9361947569602161 -0.45517368328519003\n",
      "130 0.38113558981543944 0.9439368834719004 -0.46531561789033393\n",
      "140 0.37907389259757474 0.951823780842884 -0.47742082167843275\n",
      "150 0.37682598965883446 0.9593667115621425 -0.4903818565206525\n",
      "160 0.3746251666471122 0.966292084568323 -0.5034727565025292\n",
      "170 0.37252433129533463 0.9726289952647683 -0.5164856687005743\n",
      "180 0.370470547916658 0.9785606981858166 -0.5295179809912246\n",
      "190 0.3684958996991413 0.9840813276726055 -0.5424112401479378\n",
      "200 0.36658311856457454 0.9892947686082788 -0.5552156864193141\n"
     ]
    }
   ],
   "source": [
    "q_m = 0.0\n",
    "q_ls = 1.0\n",
    "lr = 0.01\n",
    "for i in range(201):\n",
    "    l, delta = jax.value_and_grad(loss_4, argnums=[0, 1])(q_m, q_ls)\n",
    "    q_m = q_m - lr*delta[0]\n",
    "    q_ls = q_ls - lr*delta[1]\n",
    "    if i % 10 == 0:\n",
    "        print(i, l, q_m, q_ls)"
   ]
  },
  {
   "cell_type": "code",
   "execution_count": 37,
   "id": "3cf82375",
   "metadata": {},
   "outputs": [],
   "source": [
    "q_learnt_normal = tfd.Normal(loc = q_m, scale = jnp.exp(q_ls))"
   ]
  },
  {
   "cell_type": "code",
   "execution_count": 39,
   "id": "3a5cb6e9",
   "metadata": {},
   "outputs": [
    {
     "name": "stdout",
     "output_type": "stream",
     "text": [
      "0 50.23724052495546 4.838828203636067 0.6068057337279628 10.003961035481582\n",
      "10 15.514042805327527 3.5454471144162887 -0.13551518661886577 10.011469040306356\n",
      "20 6.954888663900007 2.6881203091754435 -0.3685462653729702 10.013914981536624\n",
      "30 3.2747613716700434 2.118817567566578 -0.4985042747809386 10.015302858554017\n",
      "40 1.6570392387113435 1.7406776986295425 -0.5826311036033353 10.016215939311042\n",
      "50 0.9403370649489948 1.4894933693360792 -0.6412158810793754 10.016864249729801\n",
      "60 0.6210336253868614 1.3226419345604157 -0.6838279380574951 10.01734770077941\n",
      "70 0.47792691418870875 1.2118153522261503 -0.7157249333090695 10.017721339741309\n",
      "80 0.4133011958029348 1.138208576651928 -0.7400873801052406 10.01801840930137\n",
      "90 0.3838173814501454 1.0893280454099574 -0.7589711683719441 10.018260289598556\n",
      "100 0.3701778189850337 1.0568730646745086 -0.773771253063045 10.018461383616602\n",
      "110 0.3637490136316775 1.0353287705893048 -0.7854697497484493 10.018631748738938\n",
      "120 0.3606441585807646 1.0210312370654755 -0.7947781514231067 10.01877860806132\n",
      "130 0.35909832612233755 1.0115462718965098 -0.8022235589471519 10.018907265577676\n",
      "140 0.3583005838645865 1.0052567333303357 -0.8082035410180972 10.019021687414364\n",
      "150 0.35787230542767884 1.0010883705756681 -0.8130223907652847 10.019124884773717\n",
      "160 0.3576329033325792 0.9983276604171835 -0.816915819628161 10.019219173270496\n",
      "170 0.3574938683082652 0.9965007551189968 -0.8200682124631653 10.01930635271141\n",
      "180 0.3574103615494544 0.9952930381527345 -0.8226249618058828 10.019387834426283\n",
      "190 0.3573587941872414 0.9944956676710188 -0.8247014637647048 10.019464733245169\n",
      "200 0.3573262492467642 0.9939700563310954 -0.8263897954029517 10.019537935123061\n"
     ]
    }
   ],
   "source": [
    "loc = 5.0\n",
    "logscale = 1.0\n",
    "df = 10.0\n",
    "for i in range(201):\n",
    "    l, delta = jax.value_and_grad(loss_4_student, argnums=[0, 1, 2])(loc, logscale, df)\n",
    "    loc = loc - lr*delta[0]\n",
    "    logscale = logscale - lr*delta[1]\n",
    "    df = df - lr*delta[2]\n",
    "    if i % 10 == 0:\n",
    "        print(i, l, loc, logscale, df)"
   ]
  },
  {
   "cell_type": "code",
   "execution_count": 40,
   "id": "09b4ad6f",
   "metadata": {},
   "outputs": [],
   "source": [
    "q_learnt_st = tfd.StudentT(loc = loc, scale = jnp.exp(logscale), df = df)"
   ]
  },
  {
   "cell_type": "code",
   "execution_count": 41,
   "id": "8774046b",
   "metadata": {},
   "outputs": [
    {
     "data": {
      "text/plain": [
       "<matplotlib.legend.Legend at 0x1bb3fbc10>"
      ]
     },
     "execution_count": 41,
     "metadata": {},
     "output_type": "execute_result"
    },
    {
     "data": {
      "image/png": "[encoded data removed]",
      "text/plain": [
       "<Figure size 432x288 with 1 Axes>"
      ]
     },
     "metadata": {
      "needs_background": "light"
     },
     "output_type": "display_data"
    }
   ],
   "source": [
    "x_lims = jnp.linspace(-5, 5, 1000)\n",
    "plt.plot(x_lims, p_mix.prob(x_lims), label=\"p\")\n",
    "plt.plot(x_lims, q_learnt_normal.prob(x_lims), label=\"q (Normal)\")\n",
    "plt.plot(x_lims, q_learnt_st.prob(x_lims), label=\"q (Student)\")\n",
    "\n",
    "plt.legend()"
   ]
  },
  {
   "cell_type": "code",
   "execution_count": 42,
   "id": "e0a7e40a",
   "metadata": {},
   "outputs": [],
   "source": [
    "def loss_5(mean, logscale):\n",
    "    \"\"\"\n",
    "    D_KL(p||q) instead of D_KL(q||p)\n",
    "    \"\"\"\n",
    "    n_samples = 500\n",
    "    p_samples = p_mix.sample(sample_shape=(n_samples,), seed=jax.random.PRNGKey(1))\n",
    "    q = tfd.Normal(loc = mean, scale = jnp.exp(logscale))\n",
    "\n",
    "    return (-q.log_prob(p_samples) + p_mix.log_prob(p_samples)).mean()"
   ]
  },
  {
   "cell_type": "code",
   "execution_count": 43,
   "id": "7b11571a",
   "metadata": {},
   "outputs": [
    {
     "data": {
      "text/plain": [
       "DeviceArray(1.23901677, dtype=float64)"
      ]
     },
     "execution_count": 43,
     "metadata": {},
     "output_type": "execute_result"
    }
   ],
   "source": [
    "loss_5(0.0,1.0)"
   ]
  },
  {
   "cell_type": "code",
   "execution_count": 44,
   "id": "5e26fcdb",
   "metadata": {},
   "outputs": [
    {
     "name": "stdout",
     "output_type": "stream",
     "text": [
      "0 1.2390167705532908 0.00041360611130273565 0.9915098113740193\n",
      "10 1.1688478276361165 0.004919502382351352 0.9080685651459648\n",
      "20 1.1033401844130621 0.010145104721653654 0.8275322891630522\n",
      "30 1.0428717123611244 0.016151344651324617 0.7502623542419681\n",
      "40 0.9877439902441311 0.022985985274203678 0.6766156753316488\n",
      "50 0.9381551864053602 0.030677690576222466 0.6069286984725267\n",
      "60 0.8941779491049368 0.03923039756446501 0.5414998327294664\n",
      "70 0.855747131493439 0.0486188477391185 0.480572007406698\n",
      "80 0.8226596571108344 0.058786149035420905 0.4243173890390075\n",
      "90 0.794588162314624 0.0696440467496601 0.3728263287312067\n",
      "100 0.7711058858056602 0.08107619031662487 0.3261020151842842\n",
      "110 0.7517194231708464 0.09294415985838472 0.2840615607954224\n",
      "120 0.7359038534485383 0.1050955170689717 0.24654319597267932\n",
      "130 0.7231351775594603 0.1173728117793072 0.21331837374803234\n",
      "140 0.7129167804991433 0.1296223779673276 0.18410700666233512\n",
      "150 0.7047972524054349 0.14170192102379023 0.15859386906434286\n",
      "160 0.6983806416943271 0.15348622551128827 0.13644448676001594\n",
      "170 0.6933294186118867 0.1648707174059924 0.11731919095378746\n",
      "180 0.6893628384238257 0.17577295186824857 0.10088464031323185\n",
      "190 0.6862516524851869 0.18613236253190615 0.08682254830269771\n",
      "200 0.6838116016538783 0.19590871537201884 0.07483569301948863\n"
     ]
    }
   ],
   "source": [
    "q_m = 0.0\n",
    "q_ls = 1.0\n",
    "lr = 0.01\n",
    "for i in range(201):\n",
    "    l, delta = jax.value_and_grad(loss_5, argnums=[0, 1])(q_m, q_ls)\n",
    "    q_m = q_m - lr*delta[0]\n",
    "    q_ls = q_ls - lr*delta[1]\n",
    "    if i % 10 == 0:\n",
    "        print(i, l, q_m, q_ls)"
   ]
  },
  {
   "cell_type": "code",
   "execution_count": 45,
   "id": "ec7fbfbe",
   "metadata": {},
   "outputs": [],
   "source": [
    "q_learnt_forward = tfd.Normal(loc = q_m, scale = jnp.exp(q_ls))"
   ]
  },
  {
   "cell_type": "code",
   "execution_count": 47,
   "id": "4d080e8a",
   "metadata": {},
   "outputs": [
    {
     "data": {
      "text/plain": [
       "<matplotlib.legend.Legend at 0x1a913a580>"
      ]
     },
     "execution_count": 47,
     "metadata": {},
     "output_type": "execute_result"
    },
    {
     "data": {
      "image/png": "[encoded data removed]",
      "text/plain": [
       "<Figure size 432x288 with 1 Axes>"
      ]
     },
     "metadata": {
      "needs_background": "light"
     },
     "output_type": "display_data"
    }
   ],
   "source": [
    "x_lims = jnp.linspace(-5, 5, 1000)\n",
    "plt.plot(x_lims, p_mix.prob(x_lims), label='p (target)')\n",
    "plt.plot(x_lims, q_learnt_normal.prob(x_lims), label='q (Reverse mode KL min)')\n",
    "plt.plot(x_lims, q_learnt_forward.prob(x_lims), label='q (Forward mode KL min)')\n",
    "plt.legend()"
   ]
  },
  {
   "cell_type": "code",
   "execution_count": null,
   "id": "7ca6e19e",
   "metadata": {},
   "outputs": [],
   "source": []
  }
 ],
 "metadata": {
  "kernelspec": {
   "display_name": "Python 3 (ipykernel)",
   "language": "python",
   "name": "python3"
  },
  "language_info": {
   "codemirror_mode": {
    "name": "ipython",
    "version": 3
   },
   "file_extension": ".py",
   "mimetype": "text/x-python",
   "name": "python",
   "nbconvert_exporter": "python",
   "pygments_lexer": "ipython3",
   "version": "3.9.13"
  }
 },
 "nbformat": 4,
 "nbformat_minor": 5
}
