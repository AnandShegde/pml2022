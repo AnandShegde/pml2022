{
  "nbformat": 4,
  "nbformat_minor": 0,
  "metadata": {
    "colab": {
      "name": "LAB1_PML2022_IntroductionToTFP.ipynb",
      "provenance": [],
      "collapsed_sections": []
    },
    "kernelspec": {
      "name": "python3",
      "display_name": "Python 3"
    },
    "language_info": {
      "name": "python"
    },
    "gpuClass": "standard",
    "widgets": {
      "application/vnd.jupyter.widget-state+json": {
        "8c4f0315928847e0b3c72c601ee4d7d2": {
          "model_module": "@jupyter-widgets/controls",
          "model_name": "VBoxModel",
          "model_module_version": "1.5.0",
          "state": {
            "_dom_classes": [
              "widget-interact"
            ],
            "_model_module": "@jupyter-widgets/controls",
            "_model_module_version": "1.5.0",
            "_model_name": "VBoxModel",
            "_view_count": null,
            "_view_module": "@jupyter-widgets/controls",
            "_view_module_version": "1.5.0",
            "_view_name": "VBoxView",
            "box_style": "",
            "children": [
              "IPY_MODEL_288df2195d944d3aadba41687be1c291",
              "IPY_MODEL_26a1798337d741c590c6ed8da056d855",
              "IPY_MODEL_621cb0e33d2c45cc8b567040744f86cc"
            ],
            "layout": "IPY_MODEL_8ae7c20c98c94124baa16b9f0a827d6e"
          }
        },
        "288df2195d944d3aadba41687be1c291": {
          "model_module": "@jupyter-widgets/controls",
          "model_name": "FloatSliderModel",
          "model_module_version": "1.5.0",
          "state": {
            "_dom_classes": [],
            "_model_module": "@jupyter-widgets/controls",
            "_model_module_version": "1.5.0",
            "_model_name": "FloatSliderModel",
            "_view_count": null,
            "_view_module": "@jupyter-widgets/controls",
            "_view_module_version": "1.5.0",
            "_view_name": "FloatSliderView",
            "continuous_update": true,
            "description": "alpha",
            "description_tooltip": null,
            "disabled": false,
            "layout": "IPY_MODEL_c0d5b88d6e394be0b65d04f3ec66625b",
            "max": 5000,
            "min": 0.1,
            "orientation": "horizontal",
            "readout": true,
            "readout_format": ".2f",
            "step": 0.1,
            "style": "IPY_MODEL_b18cefd9e2824b8b9f70d06bb22f2b88",
            "value": 4999.9
          }
        },
        "26a1798337d741c590c6ed8da056d855": {
          "model_module": "@jupyter-widgets/controls",
          "model_name": "FloatSliderModel",
          "model_module_version": "1.5.0",
          "state": {
            "_dom_classes": [],
            "_model_module": "@jupyter-widgets/controls",
            "_model_module_version": "1.5.0",
            "_model_name": "FloatSliderModel",
            "_view_count": null,
            "_view_module": "@jupyter-widgets/controls",
            "_view_module_version": "1.5.0",
            "_view_name": "FloatSliderView",
            "continuous_update": true,
            "description": "beta",
            "description_tooltip": null,
            "disabled": false,
            "layout": "IPY_MODEL_db58677b030e45a083ed1141fbc406c4",
            "max": 5000,
            "min": 0.1,
            "orientation": "horizontal",
            "readout": true,
            "readout_format": ".2f",
            "step": 0.1,
            "style": "IPY_MODEL_bcd0aeb17bf7491985388d6a127d0b71",
            "value": 4999.9
          }
        },
        "621cb0e33d2c45cc8b567040744f86cc": {
          "model_module": "@jupyter-widgets/output",
          "model_name": "OutputModel",
          "model_module_version": "1.0.0",
          "state": {
            "_dom_classes": [],
            "_model_module": "@jupyter-widgets/output",
            "_model_module_version": "1.0.0",
            "_model_name": "OutputModel",
            "_view_count": null,
            "_view_module": "@jupyter-widgets/output",
            "_view_module_version": "1.0.0",
            "_view_name": "OutputView",
            "layout": "IPY_MODEL_350a17e218054135a135417dfa2ba412",
            "msg_id": "",
            "outputs": [
              {
                "output_type": "display_data",
                "data": {
                  "text/plain": "<Figure size 432x288 with 1 Axes>",
                  "image/png": "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\n"
                },
                "metadata": {
                  "needs_background": "light"
                }
              }
            ]
          }
        },
        "8ae7c20c98c94124baa16b9f0a827d6e": {
          "model_module": "@jupyter-widgets/base",
          "model_name": "LayoutModel",
          "model_module_version": "1.2.0",
          "state": {
            "_model_module": "@jupyter-widgets/base",
            "_model_module_version": "1.2.0",
            "_model_name": "LayoutModel",
            "_view_count": null,
            "_view_module": "@jupyter-widgets/base",
            "_view_module_version": "1.2.0",
            "_view_name": "LayoutView",
            "align_content": null,
            "align_items": null,
            "align_self": null,
            "border": null,
            "bottom": null,
            "display": null,
            "flex": null,
            "flex_flow": null,
            "grid_area": null,
            "grid_auto_columns": null,
            "grid_auto_flow": null,
            "grid_auto_rows": null,
            "grid_column": null,
            "grid_gap": null,
            "grid_row": null,
            "grid_template_areas": null,
            "grid_template_columns": null,
            "grid_template_rows": null,
            "height": null,
            "justify_content": null,
            "justify_items": null,
            "left": null,
            "margin": null,
            "max_height": null,
            "max_width": null,
            "min_height": null,
            "min_width": null,
            "object_fit": null,
            "object_position": null,
            "order": null,
            "overflow": null,
            "overflow_x": null,
            "overflow_y": null,
            "padding": null,
            "right": null,
            "top": null,
            "visibility": null,
            "width": null
          }
        },
        "c0d5b88d6e394be0b65d04f3ec66625b": {
          "model_module": "@jupyter-widgets/base",
          "model_name": "LayoutModel",
          "model_module_version": "1.2.0",
          "state": {
            "_model_module": "@jupyter-widgets/base",
            "_model_module_version": "1.2.0",
            "_model_name": "LayoutModel",
            "_view_count": null,
            "_view_module": "@jupyter-widgets/base",
            "_view_module_version": "1.2.0",
            "_view_name": "LayoutView",
            "align_content": null,
            "align_items": null,
            "align_self": null,
            "border": null,
            "bottom": null,
            "display": null,
            "flex": null,
            "flex_flow": null,
            "grid_area": null,
            "grid_auto_columns": null,
            "grid_auto_flow": null,
            "grid_auto_rows": null,
            "grid_column": null,
            "grid_gap": null,
            "grid_row": null,
            "grid_template_areas": null,
            "grid_template_columns": null,
            "grid_template_rows": null,
            "height": null,
            "justify_content": null,
            "justify_items": null,
            "left": null,
            "margin": null,
            "max_height": null,
            "max_width": null,
            "min_height": null,
            "min_width": null,
            "object_fit": null,
            "object_position": null,
            "order": null,
            "overflow": null,
            "overflow_x": null,
            "overflow_y": null,
            "padding": null,
            "right": null,
            "top": null,
            "visibility": null,
            "width": null
          }
        },
        "b18cefd9e2824b8b9f70d06bb22f2b88": {
          "model_module": "@jupyter-widgets/controls",
          "model_name": "SliderStyleModel",
          "model_module_version": "1.5.0",
          "state": {
            "_model_module": "@jupyter-widgets/controls",
            "_model_module_version": "1.5.0",
            "_model_name": "SliderStyleModel",
            "_view_count": null,
            "_view_module": "@jupyter-widgets/base",
            "_view_module_version": "1.2.0",
            "_view_name": "StyleView",
            "description_width": "",
            "handle_color": null
          }
        },
        "db58677b030e45a083ed1141fbc406c4": {
          "model_module": "@jupyter-widgets/base",
          "model_name": "LayoutModel",
          "model_module_version": "1.2.0",
          "state": {
            "_model_module": "@jupyter-widgets/base",
            "_model_module_version": "1.2.0",
            "_model_name": "LayoutModel",
            "_view_count": null,
            "_view_module": "@jupyter-widgets/base",
            "_view_module_version": "1.2.0",
            "_view_name": "LayoutView",
            "align_content": null,
            "align_items": null,
            "align_self": null,
            "border": null,
            "bottom": null,
            "display": null,
            "flex": null,
            "flex_flow": null,
            "grid_area": null,
            "grid_auto_columns": null,
            "grid_auto_flow": null,
            "grid_auto_rows": null,
            "grid_column": null,
            "grid_gap": null,
            "grid_row": null,
            "grid_template_areas": null,
            "grid_template_columns": null,
            "grid_template_rows": null,
            "height": null,
            "justify_content": null,
            "justify_items": null,
            "left": null,
            "margin": null,
            "max_height": null,
            "max_width": null,
            "min_height": null,
            "min_width": null,
            "object_fit": null,
            "object_position": null,
            "order": null,
            "overflow": null,
            "overflow_x": null,
            "overflow_y": null,
            "padding": null,
            "right": null,
            "top": null,
            "visibility": null,
            "width": null
          }
        },
        "bcd0aeb17bf7491985388d6a127d0b71": {
          "model_module": "@jupyter-widgets/controls",
          "model_name": "SliderStyleModel",
          "model_module_version": "1.5.0",
          "state": {
            "_model_module": "@jupyter-widgets/controls",
            "_model_module_version": "1.5.0",
            "_model_name": "SliderStyleModel",
            "_view_count": null,
            "_view_module": "@jupyter-widgets/base",
            "_view_module_version": "1.2.0",
            "_view_name": "StyleView",
            "description_width": "",
            "handle_color": null
          }
        },
        "350a17e218054135a135417dfa2ba412": {
          "model_module": "@jupyter-widgets/base",
          "model_name": "LayoutModel",
          "model_module_version": "1.2.0",
          "state": {
            "_model_module": "@jupyter-widgets/base",
            "_model_module_version": "1.2.0",
            "_model_name": "LayoutModel",
            "_view_count": null,
            "_view_module": "@jupyter-widgets/base",
            "_view_module_version": "1.2.0",
            "_view_name": "LayoutView",
            "align_content": null,
            "align_items": null,
            "align_self": null,
            "border": null,
            "bottom": null,
            "display": null,
            "flex": null,
            "flex_flow": null,
            "grid_area": null,
            "grid_auto_columns": null,
            "grid_auto_flow": null,
            "grid_auto_rows": null,
            "grid_column": null,
            "grid_gap": null,
            "grid_row": null,
            "grid_template_areas": null,
            "grid_template_columns": null,
            "grid_template_rows": null,
            "height": null,
            "justify_content": null,
            "justify_items": null,
            "left": null,
            "margin": null,
            "max_height": null,
            "max_width": null,
            "min_height": null,
            "min_width": null,
            "object_fit": null,
            "object_position": null,
            "order": null,
            "overflow": null,
            "overflow_x": null,
            "overflow_y": null,
            "padding": null,
            "right": null,
            "top": null,
            "visibility": null,
            "width": null
          }
        },
        "2bba47e1ddd8411c8b5f10a31d0460a6": {
          "model_module": "@jupyter-widgets/controls",
          "model_name": "VBoxModel",
          "model_module_version": "1.5.0",
          "state": {
            "_dom_classes": [
              "widget-interact"
            ],
            "_model_module": "@jupyter-widgets/controls",
            "_model_module_version": "1.5.0",
            "_model_name": "VBoxModel",
            "_view_count": null,
            "_view_module": "@jupyter-widgets/controls",
            "_view_module_version": "1.5.0",
            "_view_name": "VBoxView",
            "box_style": "",
            "children": [
              "IPY_MODEL_f44082bfcb4841c18e582418143589fc",
              "IPY_MODEL_24e7bfea558c41e9b1b2388d7b2249c5",
              "IPY_MODEL_da8e407f89c444ed8bf62f0bdcb11a0c",
              "IPY_MODEL_096cbbac3b3e4f1ab595b847c7936b98"
            ],
            "layout": "IPY_MODEL_7d2c9788a53c4778924e0998a8630382"
          }
        },
        "f44082bfcb4841c18e582418143589fc": {
          "model_module": "@jupyter-widgets/controls",
          "model_name": "FloatSliderModel",
          "model_module_version": "1.5.0",
          "state": {
            "_dom_classes": [],
            "_model_module": "@jupyter-widgets/controls",
            "_model_module_version": "1.5.0",
            "_model_name": "FloatSliderModel",
            "_view_count": null,
            "_view_module": "@jupyter-widgets/controls",
            "_view_module_version": "1.5.0",
            "_view_name": "FloatSliderView",
            "continuous_update": true,
            "description": "df",
            "description_tooltip": null,
            "disabled": false,
            "layout": "IPY_MODEL_1cf3ae9dace74e8ca96570d98e7c96ad",
            "max": 10,
            "min": 0.1,
            "orientation": "horizontal",
            "readout": true,
            "readout_format": ".2f",
            "step": 0.1,
            "style": "IPY_MODEL_a7880282ca0f4c0d96871c292ae0c2d8",
            "value": 0.1
          }
        },
        "24e7bfea558c41e9b1b2388d7b2249c5": {
          "model_module": "@jupyter-widgets/controls",
          "model_name": "FloatSliderModel",
          "model_module_version": "1.5.0",
          "state": {
            "_dom_classes": [],
            "_model_module": "@jupyter-widgets/controls",
            "_model_module_version": "1.5.0",
            "_model_name": "FloatSliderModel",
            "_view_count": null,
            "_view_module": "@jupyter-widgets/controls",
            "_view_module_version": "1.5.0",
            "_view_name": "FloatSliderView",
            "continuous_update": true,
            "description": "loc",
            "description_tooltip": null,
            "disabled": false,
            "layout": "IPY_MODEL_1bd7beb736a54fb4acc326ac1bffcaee",
            "max": 5,
            "min": 0.1,
            "orientation": "horizontal",
            "readout": true,
            "readout_format": ".2f",
            "step": 0.1,
            "style": "IPY_MODEL_bafaefba02c9419f83a5f506752cbf75",
            "value": 3.9
          }
        },
        "da8e407f89c444ed8bf62f0bdcb11a0c": {
          "model_module": "@jupyter-widgets/controls",
          "model_name": "FloatSliderModel",
          "model_module_version": "1.5.0",
          "state": {
            "_dom_classes": [],
            "_model_module": "@jupyter-widgets/controls",
            "_model_module_version": "1.5.0",
            "_model_name": "FloatSliderModel",
            "_view_count": null,
            "_view_module": "@jupyter-widgets/controls",
            "_view_module_version": "1.5.0",
            "_view_name": "FloatSliderView",
            "continuous_update": true,
            "description": "scale",
            "description_tooltip": null,
            "disabled": false,
            "layout": "IPY_MODEL_1b099982576a4d88935e7423716b9f6d",
            "max": 5,
            "min": 0.1,
            "orientation": "horizontal",
            "readout": true,
            "readout_format": ".2f",
            "step": 0.1,
            "style": "IPY_MODEL_3fd46a2f4e934089abb5027f2f934f11",
            "value": 1.7
          }
        },
        "096cbbac3b3e4f1ab595b847c7936b98": {
          "model_module": "@jupyter-widgets/output",
          "model_name": "OutputModel",
          "model_module_version": "1.0.0",
          "state": {
            "_dom_classes": [],
            "_model_module": "@jupyter-widgets/output",
            "_model_module_version": "1.0.0",
            "_model_name": "OutputModel",
            "_view_count": null,
            "_view_module": "@jupyter-widgets/output",
            "_view_module_version": "1.0.0",
            "_view_name": "OutputView",
            "layout": "IPY_MODEL_d6d6777696ef47a6b1de32e076847649",
            "msg_id": "",
            "outputs": [
              {
                "output_type": "display_data",
                "data": {
                  "text/plain": "<Figure size 432x288 with 1 Axes>",
                  "image/png": "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\n"
                },
                "metadata": {
                  "needs_background": "light"
                }
              }
            ]
          }
        },
        "7d2c9788a53c4778924e0998a8630382": {
          "model_module": "@jupyter-widgets/base",
          "model_name": "LayoutModel",
          "model_module_version": "1.2.0",
          "state": {
            "_model_module": "@jupyter-widgets/base",
            "_model_module_version": "1.2.0",
            "_model_name": "LayoutModel",
            "_view_count": null,
            "_view_module": "@jupyter-widgets/base",
            "_view_module_version": "1.2.0",
            "_view_name": "LayoutView",
            "align_content": null,
            "align_items": null,
            "align_self": null,
            "border": null,
            "bottom": null,
            "display": null,
            "flex": null,
            "flex_flow": null,
            "grid_area": null,
            "grid_auto_columns": null,
            "grid_auto_flow": null,
            "grid_auto_rows": null,
            "grid_column": null,
            "grid_gap": null,
            "grid_row": null,
            "grid_template_areas": null,
            "grid_template_columns": null,
            "grid_template_rows": null,
            "height": null,
            "justify_content": null,
            "justify_items": null,
            "left": null,
            "margin": null,
            "max_height": null,
            "max_width": null,
            "min_height": null,
            "min_width": null,
            "object_fit": null,
            "object_position": null,
            "order": null,
            "overflow": null,
            "overflow_x": null,
            "overflow_y": null,
            "padding": null,
            "right": null,
            "top": null,
            "visibility": null,
            "width": null
          }
        },
        "1cf3ae9dace74e8ca96570d98e7c96ad": {
          "model_module": "@jupyter-widgets/base",
          "model_name": "LayoutModel",
          "model_module_version": "1.2.0",
          "state": {
            "_model_module": "@jupyter-widgets/base",
            "_model_module_version": "1.2.0",
            "_model_name": "LayoutModel",
            "_view_count": null,
            "_view_module": "@jupyter-widgets/base",
            "_view_module_version": "1.2.0",
            "_view_name": "LayoutView",
            "align_content": null,
            "align_items": null,
            "align_self": null,
            "border": null,
            "bottom": null,
            "display": null,
            "flex": null,
            "flex_flow": null,
            "grid_area": null,
            "grid_auto_columns": null,
            "grid_auto_flow": null,
            "grid_auto_rows": null,
            "grid_column": null,
            "grid_gap": null,
            "grid_row": null,
            "grid_template_areas": null,
            "grid_template_columns": null,
            "grid_template_rows": null,
            "height": null,
            "justify_content": null,
            "justify_items": null,
            "left": null,
            "margin": null,
            "max_height": null,
            "max_width": null,
            "min_height": null,
            "min_width": null,
            "object_fit": null,
            "object_position": null,
            "order": null,
            "overflow": null,
            "overflow_x": null,
            "overflow_y": null,
            "padding": null,
            "right": null,
            "top": null,
            "visibility": null,
            "width": null
          }
        },
        "a7880282ca0f4c0d96871c292ae0c2d8": {
          "model_module": "@jupyter-widgets/controls",
          "model_name": "SliderStyleModel",
          "model_module_version": "1.5.0",
          "state": {
            "_model_module": "@jupyter-widgets/controls",
            "_model_module_version": "1.5.0",
            "_model_name": "SliderStyleModel",
            "_view_count": null,
            "_view_module": "@jupyter-widgets/base",
            "_view_module_version": "1.2.0",
            "_view_name": "StyleView",
            "description_width": "",
            "handle_color": null
          }
        },
        "1bd7beb736a54fb4acc326ac1bffcaee": {
          "model_module": "@jupyter-widgets/base",
          "model_name": "LayoutModel",
          "model_module_version": "1.2.0",
          "state": {
            "_model_module": "@jupyter-widgets/base",
            "_model_module_version": "1.2.0",
            "_model_name": "LayoutModel",
            "_view_count": null,
            "_view_module": "@jupyter-widgets/base",
            "_view_module_version": "1.2.0",
            "_view_name": "LayoutView",
            "align_content": null,
            "align_items": null,
            "align_self": null,
            "border": null,
            "bottom": null,
            "display": null,
            "flex": null,
            "flex_flow": null,
            "grid_area": null,
            "grid_auto_columns": null,
            "grid_auto_flow": null,
            "grid_auto_rows": null,
            "grid_column": null,
            "grid_gap": null,
            "grid_row": null,
            "grid_template_areas": null,
            "grid_template_columns": null,
            "grid_template_rows": null,
            "height": null,
            "justify_content": null,
            "justify_items": null,
            "left": null,
            "margin": null,
            "max_height": null,
            "max_width": null,
            "min_height": null,
            "min_width": null,
            "object_fit": null,
            "object_position": null,
            "order": null,
            "overflow": null,
            "overflow_x": null,
            "overflow_y": null,
            "padding": null,
            "right": null,
            "top": null,
            "visibility": null,
            "width": null
          }
        },
        "bafaefba02c9419f83a5f506752cbf75": {
          "model_module": "@jupyter-widgets/controls",
          "model_name": "SliderStyleModel",
          "model_module_version": "1.5.0",
          "state": {
            "_model_module": "@jupyter-widgets/controls",
            "_model_module_version": "1.5.0",
            "_model_name": "SliderStyleModel",
            "_view_count": null,
            "_view_module": "@jupyter-widgets/base",
            "_view_module_version": "1.2.0",
            "_view_name": "StyleView",
            "description_width": "",
            "handle_color": null
          }
        },
        "1b099982576a4d88935e7423716b9f6d": {
          "model_module": "@jupyter-widgets/base",
          "model_name": "LayoutModel",
          "model_module_version": "1.2.0",
          "state": {
            "_model_module": "@jupyter-widgets/base",
            "_model_module_version": "1.2.0",
            "_model_name": "LayoutModel",
            "_view_count": null,
            "_view_module": "@jupyter-widgets/base",
            "_view_module_version": "1.2.0",
            "_view_name": "LayoutView",
            "align_content": null,
            "align_items": null,
            "align_self": null,
            "border": null,
            "bottom": null,
            "display": null,
            "flex": null,
            "flex_flow": null,
            "grid_area": null,
            "grid_auto_columns": null,
            "grid_auto_flow": null,
            "grid_auto_rows": null,
            "grid_column": null,
            "grid_gap": null,
            "grid_row": null,
            "grid_template_areas": null,
            "grid_template_columns": null,
            "grid_template_rows": null,
            "height": null,
            "justify_content": null,
            "justify_items": null,
            "left": null,
            "margin": null,
            "max_height": null,
            "max_width": null,
            "min_height": null,
            "min_width": null,
            "object_fit": null,
            "object_position": null,
            "order": null,
            "overflow": null,
            "overflow_x": null,
            "overflow_y": null,
            "padding": null,
            "right": null,
            "top": null,
            "visibility": null,
            "width": null
          }
        },
        "3fd46a2f4e934089abb5027f2f934f11": {
          "model_module": "@jupyter-widgets/controls",
          "model_name": "SliderStyleModel",
          "model_module_version": "1.5.0",
          "state": {
            "_model_module": "@jupyter-widgets/controls",
            "_model_module_version": "1.5.0",
            "_model_name": "SliderStyleModel",
            "_view_count": null,
            "_view_module": "@jupyter-widgets/base",
            "_view_module_version": "1.2.0",
            "_view_name": "StyleView",
            "description_width": "",
            "handle_color": null
          }
        },
        "d6d6777696ef47a6b1de32e076847649": {
          "model_module": "@jupyter-widgets/base",
          "model_name": "LayoutModel",
          "model_module_version": "1.2.0",
          "state": {
            "_model_module": "@jupyter-widgets/base",
            "_model_module_version": "1.2.0",
            "_model_name": "LayoutModel",
            "_view_count": null,
            "_view_module": "@jupyter-widgets/base",
            "_view_module_version": "1.2.0",
            "_view_name": "LayoutView",
            "align_content": null,
            "align_items": null,
            "align_self": null,
            "border": null,
            "bottom": null,
            "display": null,
            "flex": null,
            "flex_flow": null,
            "grid_area": null,
            "grid_auto_columns": null,
            "grid_auto_flow": null,
            "grid_auto_rows": null,
            "grid_column": null,
            "grid_gap": null,
            "grid_row": null,
            "grid_template_areas": null,
            "grid_template_columns": null,
            "grid_template_rows": null,
            "height": null,
            "justify_content": null,
            "justify_items": null,
            "left": null,
            "margin": null,
            "max_height": null,
            "max_width": null,
            "min_height": null,
            "min_width": null,
            "object_fit": null,
            "object_position": null,
            "order": null,
            "overflow": null,
            "overflow_x": null,
            "overflow_y": null,
            "padding": null,
            "right": null,
            "top": null,
            "visibility": null,
            "width": null
          }
        },
        "45a3fc64f084403481b5b06ff8b2d927": {
          "model_module": "@jupyter-widgets/controls",
          "model_name": "VBoxModel",
          "model_module_version": "1.5.0",
          "state": {
            "_dom_classes": [
              "widget-interact"
            ],
            "_model_module": "@jupyter-widgets/controls",
            "_model_module_version": "1.5.0",
            "_model_name": "VBoxModel",
            "_view_count": null,
            "_view_module": "@jupyter-widgets/controls",
            "_view_module_version": "1.5.0",
            "_view_name": "VBoxView",
            "box_style": "",
            "children": [
              "IPY_MODEL_9ac7b51898544e6493b992adcf12c9fc",
              "IPY_MODEL_40c762f6b288469db6760a2e3615f0c7"
            ],
            "layout": "IPY_MODEL_c2e29d88401042ffad1e908486d23dec"
          }
        },
        "9ac7b51898544e6493b992adcf12c9fc": {
          "model_module": "@jupyter-widgets/controls",
          "model_name": "IntSliderModel",
          "model_module_version": "1.5.0",
          "state": {
            "_dom_classes": [],
            "_model_module": "@jupyter-widgets/controls",
            "_model_module_version": "1.5.0",
            "_model_name": "IntSliderModel",
            "_view_count": null,
            "_view_module": "@jupyter-widgets/controls",
            "_view_module_version": "1.5.0",
            "_view_name": "IntSliderView",
            "continuous_update": true,
            "description": "seed",
            "description_tooltip": null,
            "disabled": false,
            "layout": "IPY_MODEL_1288670de9cc4f879c0f264f5bff1cfa",
            "max": 10,
            "min": 1,
            "orientation": "horizontal",
            "readout": true,
            "readout_format": "d",
            "step": 1,
            "style": "IPY_MODEL_6507a4d691b74949be2d338d1440eeb8",
            "value": 10
          }
        },
        "40c762f6b288469db6760a2e3615f0c7": {
          "model_module": "@jupyter-widgets/output",
          "model_name": "OutputModel",
          "model_module_version": "1.0.0",
          "state": {
            "_dom_classes": [],
            "_model_module": "@jupyter-widgets/output",
            "_model_module_version": "1.0.0",
            "_model_name": "OutputModel",
            "_view_count": null,
            "_view_module": "@jupyter-widgets/output",
            "_view_module_version": "1.0.0",
            "_view_name": "OutputView",
            "layout": "IPY_MODEL_c24b88f494884ac5b1d4397bbbfa9be9",
            "msg_id": "",
            "outputs": [
              {
                "output_type": "display_data",
                "data": {
                  "text/plain": "<Figure size 432x288 with 1 Axes>",
                  "image/png": "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\n"
                },
                "metadata": {
                  "needs_background": "light"
                }
              }
            ]
          }
        },
        "c2e29d88401042ffad1e908486d23dec": {
          "model_module": "@jupyter-widgets/base",
          "model_name": "LayoutModel",
          "model_module_version": "1.2.0",
          "state": {
            "_model_module": "@jupyter-widgets/base",
            "_model_module_version": "1.2.0",
            "_model_name": "LayoutModel",
            "_view_count": null,
            "_view_module": "@jupyter-widgets/base",
            "_view_module_version": "1.2.0",
            "_view_name": "LayoutView",
            "align_content": null,
            "align_items": null,
            "align_self": null,
            "border": null,
            "bottom": null,
            "display": null,
            "flex": null,
            "flex_flow": null,
            "grid_area": null,
            "grid_auto_columns": null,
            "grid_auto_flow": null,
            "grid_auto_rows": null,
            "grid_column": null,
            "grid_gap": null,
            "grid_row": null,
            "grid_template_areas": null,
            "grid_template_columns": null,
            "grid_template_rows": null,
            "height": null,
            "justify_content": null,
            "justify_items": null,
            "left": null,
            "margin": null,
            "max_height": null,
            "max_width": null,
            "min_height": null,
            "min_width": null,
            "object_fit": null,
            "object_position": null,
            "order": null,
            "overflow": null,
            "overflow_x": null,
            "overflow_y": null,
            "padding": null,
            "right": null,
            "top": null,
            "visibility": null,
            "width": null
          }
        },
        "1288670de9cc4f879c0f264f5bff1cfa": {
          "model_module": "@jupyter-widgets/base",
          "model_name": "LayoutModel",
          "model_module_version": "1.2.0",
          "state": {
            "_model_module": "@jupyter-widgets/base",
            "_model_module_version": "1.2.0",
            "_model_name": "LayoutModel",
            "_view_count": null,
            "_view_module": "@jupyter-widgets/base",
            "_view_module_version": "1.2.0",
            "_view_name": "LayoutView",
            "align_content": null,
            "align_items": null,
            "align_self": null,
            "border": null,
            "bottom": null,
            "display": null,
            "flex": null,
            "flex_flow": null,
            "grid_area": null,
            "grid_auto_columns": null,
            "grid_auto_flow": null,
            "grid_auto_rows": null,
            "grid_column": null,
            "grid_gap": null,
            "grid_row": null,
            "grid_template_areas": null,
            "grid_template_columns": null,
            "grid_template_rows": null,
            "height": null,
            "justify_content": null,
            "justify_items": null,
            "left": null,
            "margin": null,
            "max_height": null,
            "max_width": null,
            "min_height": null,
            "min_width": null,
            "object_fit": null,
            "object_position": null,
            "order": null,
            "overflow": null,
            "overflow_x": null,
            "overflow_y": null,
            "padding": null,
            "right": null,
            "top": null,
            "visibility": null,
            "width": null
          }
        },
        "6507a4d691b74949be2d338d1440eeb8": {
          "model_module": "@jupyter-widgets/controls",
          "model_name": "SliderStyleModel",
          "model_module_version": "1.5.0",
          "state": {
            "_model_module": "@jupyter-widgets/controls",
            "_model_module_version": "1.5.0",
            "_model_name": "SliderStyleModel",
            "_view_count": null,
            "_view_module": "@jupyter-widgets/base",
            "_view_module_version": "1.2.0",
            "_view_name": "StyleView",
            "description_width": "",
            "handle_color": null
          }
        },
        "c24b88f494884ac5b1d4397bbbfa9be9": {
          "model_module": "@jupyter-widgets/base",
          "model_name": "LayoutModel",
          "model_module_version": "1.2.0",
          "state": {
            "_model_module": "@jupyter-widgets/base",
            "_model_module_version": "1.2.0",
            "_model_name": "LayoutModel",
            "_view_count": null,
            "_view_module": "@jupyter-widgets/base",
            "_view_module_version": "1.2.0",
            "_view_name": "LayoutView",
            "align_content": null,
            "align_items": null,
            "align_self": null,
            "border": null,
            "bottom": null,
            "display": null,
            "flex": null,
            "flex_flow": null,
            "grid_area": null,
            "grid_auto_columns": null,
            "grid_auto_flow": null,
            "grid_auto_rows": null,
            "grid_column": null,
            "grid_gap": null,
            "grid_row": null,
            "grid_template_areas": null,
            "grid_template_columns": null,
            "grid_template_rows": null,
            "height": null,
            "justify_content": null,
            "justify_items": null,
            "left": null,
            "margin": null,
            "max_height": null,
            "max_width": null,
            "min_height": null,
            "min_width": null,
            "object_fit": null,
            "object_position": null,
            "order": null,
            "overflow": null,
            "overflow_x": null,
            "overflow_y": null,
            "padding": null,
            "right": null,
            "top": null,
            "visibility": null,
            "width": null
          }
        }
      }
    }
  },
  "cells": [
    {
      "cell_type": "markdown",
      "source": [
        "## Imports"
      ],
      "metadata": {
        "id": "AYSmc6PAX2nZ"
      }
    },
    {
      "cell_type": "code",
      "execution_count": null,
      "metadata": {
        "id": "xLKUnQ38k2QC"
      },
      "outputs": [],
      "source": [
        "%%capture\n",
        "import os\n",
        "os.environ[\"CUDA_VISIBLE_DEVICES\"] = \"3\"\n",
        "\n",
        "# Silence WARNING:root:The use of `check_types` is deprecated and does not have any effect.\n",
        "# https://github.com/tensorflow/probability/issues/1523\n",
        "import logging\n",
        "\n",
        "logger = logging.getLogger()\n",
        "\n",
        "\n",
        "class CheckTypesFilter(logging.Filter):\n",
        "    def filter(self, record):\n",
        "        return \"check_types\" not in record.getMessage()\n",
        "\n",
        "\n",
        "logger.addFilter(CheckTypesFilter())\n",
        "\n",
        "import numpy as np\n",
        "import matplotlib.pyplot as plt\n",
        "plt.rcParams['font.size'] = 14\n",
        "\n",
        "import seaborn as sns\n",
        "from functools import partial\n",
        "from tqdm import trange\n",
        "from ipywidgets import interact\n",
        "\n",
        "try:\n",
        "    import optax\n",
        "except ModuleNotFoundError:\n",
        "    %pip install optax\n",
        "    import optax\n",
        "\n",
        "try:\n",
        "    import jax\n",
        "except ModuleNotFoundError:\n",
        "    %pip install jaxlib jax\n",
        "    import jax\n",
        "import jax.numpy as jnp\n",
        "\n",
        "try:\n",
        "    import tensorflow_probability.substrates.jax as tfp\n",
        "except ModuleNotFoundError:\n",
        "    %pip install tensorflow-probability\n",
        "    import tensorflow_probability.substrates.jax as tfp"
      ]
    },
    {
      "cell_type": "markdown",
      "source": [
        "## JAX\n",
        "\n",
        "* A lower level ML library deveoped by Google\n",
        "* Numpy on GPU, TPU\n",
        "* Functional approach (pure functions, please!)"
      ],
      "metadata": {
        "id": "cQLmR9Gsffe4"
      }
    },
    {
      "cell_type": "markdown",
      "source": [
        "### Hello World"
      ],
      "metadata": {
        "id": "fvsFQLWcini0"
      }
    },
    {
      "cell_type": "code",
      "source": [
        "lst = [1.0, 2.0, 3.0]"
      ],
      "metadata": {
        "id": "CGtlT-OIj189"
      },
      "execution_count": null,
      "outputs": []
    },
    {
      "cell_type": "code",
      "source": [
        "array = jnp.array(lst)\n",
        "array"
      ],
      "metadata": {
        "colab": {
          "base_uri": "https://localhost:8080/"
        },
        "id": "Hb0rUiH5YkJ7",
        "outputId": "55061a94-c38e-47e8-b7a3-55eb0cd270ac"
      },
      "execution_count": null,
      "outputs": [
        {
          "output_type": "stream",
          "name": "stderr",
          "text": [
            "WARNING:absl:No GPU/TPU found, falling back to CPU. (Set TF_CPP_MIN_LOG_LEVEL=0 and rerun for more info.)\n"
          ]
        },
        {
          "output_type": "execute_result",
          "data": {
            "text/plain": [
              "DeviceArray([1., 2., 3.], dtype=float32)"
            ]
          },
          "metadata": {},
          "execution_count": 3
        }
      ]
    },
    {
      "cell_type": "code",
      "source": [
        "array.shape, array.dtype"
      ],
      "metadata": {
        "colab": {
          "base_uri": "https://localhost:8080/"
        },
        "id": "ZNNzFQQwiKkp",
        "outputId": "ad17195f-9d20-4ac9-c52f-b7b3773689f1"
      },
      "execution_count": null,
      "outputs": [
        {
          "output_type": "execute_result",
          "data": {
            "text/plain": [
              "((3,), dtype('float32'))"
            ]
          },
          "metadata": {},
          "execution_count": 4
        }
      ]
    },
    {
      "cell_type": "code",
      "source": [
        "array.device()"
      ],
      "metadata": {
        "colab": {
          "base_uri": "https://localhost:8080/"
        },
        "id": "o2sIrLnqiTKC",
        "outputId": "fd1e4724-4342-467a-8e21-5f87727b1d8f"
      },
      "execution_count": null,
      "outputs": [
        {
          "output_type": "execute_result",
          "data": {
            "text/plain": [
              "CpuDevice(id=0)"
            ]
          },
          "metadata": {},
          "execution_count": 5
        }
      ]
    },
    {
      "cell_type": "code",
      "source": [
        "array.tolist()"
      ],
      "metadata": {
        "colab": {
          "base_uri": "https://localhost:8080/"
        },
        "id": "SkS2D9BCisTh",
        "outputId": "2fec788c-034d-4976-c4f7-16dcf7c9f711"
      },
      "execution_count": null,
      "outputs": [
        {
          "output_type": "execute_result",
          "data": {
            "text/plain": [
              "[1.0, 2.0, 3.0]"
            ]
          },
          "metadata": {},
          "execution_count": 6
        }
      ]
    },
    {
      "cell_type": "markdown",
      "source": [
        "### Random number sampling"
      ],
      "metadata": {
        "id": "pPGXkipCkBn5"
      }
    },
    {
      "cell_type": "code",
      "source": [
        "np.random.seed(0)\n",
        "np.random.uniform(), np.random.uniform(), np.random.uniform()"
      ],
      "metadata": {
        "colab": {
          "base_uri": "https://localhost:8080/"
        },
        "id": "-G8tGvvmkK0N",
        "outputId": "893df02a-802e-4a6c-9817-09260469d5fe"
      },
      "execution_count": null,
      "outputs": [
        {
          "output_type": "execute_result",
          "data": {
            "text/plain": [
              "(0.5488135039273248, 0.7151893663724195, 0.6027633760716439)"
            ]
          },
          "metadata": {},
          "execution_count": 9
        }
      ]
    },
    {
      "cell_type": "code",
      "source": [
        "np.random.uniform()"
      ],
      "metadata": {
        "colab": {
          "base_uri": "https://localhost:8080/"
        },
        "id": "C4VeYxT2EUuQ",
        "outputId": "b89a4280-8129-4274-a87d-746f5bae81bb"
      },
      "execution_count": null,
      "outputs": [
        {
          "output_type": "execute_result",
          "data": {
            "text/plain": [
              "0.5448831829968969"
            ]
          },
          "metadata": {},
          "execution_count": 10
        }
      ]
    },
    {
      "cell_type": "code",
      "source": [
        "key = jax.random.PRNGKey(0)\n",
        "jax.random.uniform(key), jax.random.uniform(key), jax.random.uniform(key)"
      ],
      "metadata": {
        "colab": {
          "base_uri": "https://localhost:8080/"
        },
        "id": "YiykiqyJkSE8",
        "outputId": "4370d641-56d6-443e-9e79-396fdb6cd6fc"
      },
      "execution_count": null,
      "outputs": [
        {
          "output_type": "execute_result",
          "data": {
            "text/plain": [
              "(DeviceArray(0.41845703, dtype=float32),\n",
              " DeviceArray(0.41845703, dtype=float32),\n",
              " DeviceArray(0.41845703, dtype=float32))"
            ]
          },
          "metadata": {},
          "execution_count": 11
        }
      ]
    },
    {
      "cell_type": "code",
      "source": [
        "jax.random.uniform(key)"
      ],
      "metadata": {
        "colab": {
          "base_uri": "https://localhost:8080/"
        },
        "id": "doiNcJEZEc3g",
        "outputId": "9351d3b9-6ec7-4862-8fbd-acbe923a02dd"
      },
      "execution_count": null,
      "outputs": [
        {
          "output_type": "execute_result",
          "data": {
            "text/plain": [
              "DeviceArray(0.41845703, dtype=float32)"
            ]
          },
          "metadata": {},
          "execution_count": 12
        }
      ]
    },
    {
      "cell_type": "code",
      "source": [
        "jax.random.uniform(key, shape=(10,), minval=-5, maxval=5)"
      ],
      "metadata": {
        "colab": {
          "base_uri": "https://localhost:8080/"
        },
        "id": "zI1ydPvjnFzj",
        "outputId": "80843c2c-e390-4c50-b0fd-eaa5d848e798"
      },
      "execution_count": null,
      "outputs": [
        {
          "output_type": "execute_result",
          "data": {
            "text/plain": [
              "DeviceArray([-1.4509487 ,  1.0419903 , -0.72415733, -2.6938403 ,\n",
              "             -1.7014146 , -0.6046343 , -2.4900234 , -2.2269428 ,\n",
              "              2.6782074 ,  2.1474562 ], dtype=float32)"
            ]
          },
          "metadata": {},
          "execution_count": 13
        }
      ]
    },
    {
      "cell_type": "code",
      "source": [
        "# jax.random.normal(key, shape=10)  # This will not work because shape must be an iterable\n",
        "jax.random.normal(key, shape=(10,))"
      ],
      "metadata": {
        "colab": {
          "base_uri": "https://localhost:8080/"
        },
        "id": "IiVrKye4kkxw",
        "outputId": "1fef4ddf-1e1b-4042-d3c4-5755de280a81"
      },
      "execution_count": null,
      "outputs": [
        {
          "output_type": "execute_result",
          "data": {
            "text/plain": [
              "DeviceArray([-0.3721109 ,  0.26423115, -0.18252768, -0.7368197 ,\n",
              "             -0.44030377, -0.1521442 , -0.67135346, -0.5908641 ,\n",
              "              0.73168886,  0.5673026 ], dtype=float32)"
            ]
          },
          "metadata": {},
          "execution_count": 14
        }
      ]
    },
    {
      "cell_type": "markdown",
      "source": [
        "### Question: Can you generate samples with a specified mean and standard deviation?\n",
        "\n",
        "$$\n",
        "x \\sim \\mathcal{N}(\\mu, \\sigma)\n",
        "$$"
      ],
      "metadata": {
        "id": "R5pTHn6QlV1U"
      }
    },
    {
      "cell_type": "code",
      "source": [
        "#@title Answer\n",
        "def normal(key, shape, mu=0, sigma=1):\n",
        "  sample = jax.random.normal(key, shape)\n",
        "  return mu + sample * sigma\n",
        "\n",
        "samples = normal(key, shape=(10,), mu=3.0, sigma=1.0)\n",
        "samples"
      ],
      "metadata": {
        "colab": {
          "base_uri": "https://localhost:8080/"
        },
        "id": "3opwCnYdlf-b",
        "outputId": "fdaa00ff-e4de-40d3-c566-11b48aa193f9"
      },
      "execution_count": null,
      "outputs": [
        {
          "output_type": "execute_result",
          "data": {
            "text/plain": [
              "DeviceArray([2.6278892, 3.2642312, 2.8174722, 2.2631803, 2.5596962,\n",
              "             2.8478558, 2.3286467, 2.4091358, 3.731689 , 3.5673027],            dtype=float32)"
            ]
          },
          "metadata": {},
          "execution_count": 15
        }
      ]
    },
    {
      "cell_type": "markdown",
      "source": [
        "### Basics of keys\n"
      ],
      "metadata": {
        "id": "1X4krLJbk0Gf"
      }
    },
    {
      "cell_type": "code",
      "source": [
        "key = jax.random.PRNGKey(123)\n",
        "key"
      ],
      "metadata": {
        "colab": {
          "base_uri": "https://localhost:8080/"
        },
        "id": "euCogWh8k4SK",
        "outputId": "3f08d4d2-844d-466e-baa3-37362f929a02"
      },
      "execution_count": null,
      "outputs": [
        {
          "output_type": "execute_result",
          "data": {
            "text/plain": [
              "DeviceArray([  0, 123], dtype=uint32)"
            ]
          },
          "metadata": {},
          "execution_count": 16
        }
      ]
    },
    {
      "cell_type": "code",
      "source": [
        "key = jnp.array([0, 0], dtype=jnp.uint32)\n",
        "key"
      ],
      "metadata": {
        "colab": {
          "base_uri": "https://localhost:8080/"
        },
        "id": "a3H4LQbonjPz",
        "outputId": "012b5e2f-170b-4bbb-837c-8b6c062e346b"
      },
      "execution_count": null,
      "outputs": [
        {
          "output_type": "execute_result",
          "data": {
            "text/plain": [
              "DeviceArray([0, 0], dtype=uint32)"
            ]
          },
          "metadata": {},
          "execution_count": 17
        }
      ]
    },
    {
      "cell_type": "code",
      "source": [
        "key.shape"
      ],
      "metadata": {
        "colab": {
          "base_uri": "https://localhost:8080/"
        },
        "id": "kdx9y2clk7yR",
        "outputId": "7f8f3be2-c121-4396-b612-656f53fad04a"
      },
      "execution_count": null,
      "outputs": [
        {
          "output_type": "execute_result",
          "data": {
            "text/plain": [
              "(2,)"
            ]
          },
          "metadata": {},
          "execution_count": 18
        }
      ]
    },
    {
      "cell_type": "code",
      "source": [
        "keys = jax.random.split(key, num=10)\n",
        "keys.shape"
      ],
      "metadata": {
        "colab": {
          "base_uri": "https://localhost:8080/"
        },
        "id": "jOLm3xE6k9WD",
        "outputId": "4bdec671-b2f2-4069-948c-6784e9ba0cca"
      },
      "execution_count": null,
      "outputs": [
        {
          "output_type": "execute_result",
          "data": {
            "text/plain": [
              "(10, 2)"
            ]
          },
          "metadata": {},
          "execution_count": 19
        }
      ]
    },
    {
      "cell_type": "markdown",
      "source": [
        "### Caveat: one key should be used only once"
      ],
      "metadata": {
        "id": "0pLS5l9FkpIQ"
      }
    },
    {
      "cell_type": "code",
      "source": [
        "key = jax.random.PRNGKey(123)\n",
        "another_key = jax.random.PRNGKey(456)\n",
        "\n",
        "x = jax.random.normal(key, shape=(10,))\n",
        "y_same = jax.random.normal(key, shape=(10,))\n",
        "y_different = jax.random.normal(another_key, shape=(10,))\n",
        "\n",
        "plt.plot(x, y_same, '.', label='y_same')\n",
        "plt.plot(x, y_different, '.', label='y_different')\n",
        "plt.legend(bbox_to_anchor=(1,1));\n",
        "plt.xlabel('x');plt.ylabel('y');"
      ],
      "metadata": {
        "colab": {
          "base_uri": "https://localhost:8080/",
          "height": 287
        },
        "id": "llKRggDBlGfW",
        "outputId": "134a9d98-490a-48d7-afa1-58788a039653"
      },
      "execution_count": null,
      "outputs": [
        {
          "output_type": "display_data",
          "data": {
            "text/plain": [
              "<Figure size 432x288 with 1 Axes>"
            ],
            "image/png": "[encoded data removed]"
          },
          "metadata": {
            "needs_background": "light"
          }
        }
      ]
    },
    {
      "cell_type": "markdown",
      "source": [
        "### JIT (Just In Time) function"
      ],
      "metadata": {
        "id": "B5sCrX8B3c86"
      }
    },
    {
      "cell_type": "code",
      "source": [
        "def math_function(x):\n",
        "    x = jnp.sin(x)\n",
        "    x = jnp.exp(x)\n",
        "    x = jnp.square(x)\n",
        "    x = jnp.log(x)\n",
        "    x = jnp.dot(x, x.T)\n",
        "    return x.sum()"
      ],
      "metadata": {
        "id": "FRt8U1_h3jtG"
      },
      "execution_count": null,
      "outputs": []
    },
    {
      "cell_type": "code",
      "source": [
        "key = jax.random.PRNGKey(0)\n",
        "x = jax.random.normal(key, (10**9, ))\n",
        "\n",
        "math_function(x).block_until_ready()  # warm up\n",
        "%timeit -n1 -r10 math_function(x).block_until_ready()"
      ],
      "metadata": {
        "colab": {
          "base_uri": "https://localhost:8080/"
        },
        "id": "Gzqn07s24ZAG",
        "outputId": "8cf5c892-10ff-4c6c-dfaf-9506484adca6"
      },
      "execution_count": null,
      "outputs": [
        {
          "output_type": "stream",
          "name": "stdout",
          "text": [
            "26.4 ms ± 164 µs per loop (mean ± std. dev. of 10 runs, 1 loop each)\n"
          ]
        }
      ]
    },
    {
      "cell_type": "code",
      "source": [
        "jitted_math_function = jax.jit(math_function)\n",
        "\n",
        "jitted_math_function(x).block_until_ready()  # warm up\n",
        "%timeit -n1 -r10 jitted_math_function(x).block_until_ready()"
      ],
      "metadata": {
        "id": "s4UukApT5Jsq",
        "colab": {
          "base_uri": "https://localhost:8080/"
        },
        "outputId": "3eb2517b-2f9c-4f95-b07a-bef9f7609e04"
      },
      "execution_count": null,
      "outputs": [
        {
          "output_type": "stream",
          "name": "stdout",
          "text": [
            "8.58 ms ± 15.5 µs per loop (mean ± std. dev. of 10 runs, 1 loop each)\n"
          ]
        }
      ]
    },
    {
      "cell_type": "markdown",
      "source": [
        "### Special notes on JIT"
      ],
      "metadata": {
        "id": "Aib6mhbr61Jq"
      }
    },
    {
      "cell_type": "code",
      "source": [
        "# Be careful with global variables\n",
        "\n",
        "def plus_x(y):\n",
        "    return x+y\n",
        "\n",
        "jitted_plus_x = jax.jit(plus_x)\n",
        "\n",
        "print(jitted_plus_x)\n",
        "x = 0\n",
        "print(jitted_plus_x(2))\n",
        "x = 5\n",
        "print(jitted_plus_x(2))\n",
        "jitted_plus_x = jax.jit(plus_x)\n",
        "print(jitted_plus_x(2))"
      ],
      "metadata": {
        "id": "BQXjXKJy6-Pm",
        "colab": {
          "base_uri": "https://localhost:8080/"
        },
        "outputId": "ed04cf45-38fe-4573-cc97-2ab2a9a16932"
      },
      "execution_count": null,
      "outputs": [
        {
          "output_type": "stream",
          "name": "stdout",
          "text": [
            "<CompiledFunction of <function plus_x at 0x7fd1205434c0>>\n",
            "2\n",
            "2\n",
            "2\n"
          ]
        }
      ]
    },
    {
      "cell_type": "code",
      "source": [
        "# Static arguments? mention explicitely\n",
        "def sample(key, deterministic):\n",
        "    if deterministic == \"True\":\n",
        "        return jnp.array(0.0)\n",
        "    else:\n",
        "        return jax.random.normal(key)"
      ],
      "metadata": {
        "id": "icP9rG0B7aVd"
      },
      "execution_count": null,
      "outputs": []
    },
    {
      "cell_type": "code",
      "source": [
        "jitted_sample = jax.jit(sample, static_argnames=['deterministic'])\n",
        "# jitted_sample = jax.jit(sample)\n",
        "\n",
        "key = jax.random.PRNGKey(123)\n",
        "\n",
        "deterministic = \"True\"\n",
        "print(jitted_sample(key, deterministic))\n",
        "\n",
        "deterministic = \"False\"\n",
        "print(jitted_sample(key, deterministic))"
      ],
      "metadata": {
        "colab": {
          "base_uri": "https://localhost:8080/"
        },
        "id": "Vx22knwV2dfA",
        "outputId": "8984e7e0-31bb-4f92-c9a7-c69e1eadbb86"
      },
      "execution_count": null,
      "outputs": [
        {
          "output_type": "stream",
          "name": "stdout",
          "text": [
            "0.0\n",
            "-0.75307846\n"
          ]
        }
      ]
    },
    {
      "cell_type": "markdown",
      "source": [
        "### vmap"
      ],
      "metadata": {
        "id": "GEILBvlmBH6U"
      }
    },
    {
      "cell_type": "markdown",
      "source": [
        "$$\n",
        "\\boldsymbol{y} = X\\boldsymbol{\\theta}\n",
        "$$"
      ],
      "metadata": {
        "id": "IkoL_JTlC1Y0"
      }
    },
    {
      "cell_type": "code",
      "source": [
        "def predict(x, theta):\n",
        "    \"\"\"\n",
        "    x: (n, d)\n",
        "    theta: (d, )\n",
        "    \"\"\"\n",
        "    return jnp.dot(x, theta)\n",
        "\n",
        "x = jax.random.normal(key, shape=(10, 5))\n",
        "subkey = jax.random.split(key, num=1)[0]\n",
        "theta = jax.random.normal(subkey, shape=(5,))\n",
        "\n",
        "print(predict(x, theta))"
      ],
      "metadata": {
        "id": "3wd_0OMXBHJ3",
        "colab": {
          "base_uri": "https://localhost:8080/"
        },
        "outputId": "4b5d2287-07b0-4de2-81ba-b2a982955cdf"
      },
      "execution_count": null,
      "outputs": [
        {
          "output_type": "stream",
          "name": "stdout",
          "text": [
            "[ 0.7046675  -0.29442528  2.4415731  -3.5003483  -2.835635    2.4002323\n",
            "  3.6175876   3.0491467   6.2198896   0.02163917]\n"
          ]
        }
      ]
    },
    {
      "cell_type": "markdown",
      "source": [
        "$$\n",
        "y_i = x_1\\theta_1 + x_2\\theta_2 + ... = \\sum_{j=1}^{d}x_{ij}\\theta_j\n",
        "$$"
      ],
      "metadata": {
        "id": "6Pn0l4JhDCMF"
      }
    },
    {
      "cell_type": "code",
      "source": [
        "def predict_single_example(x, theta):\n",
        "    \"\"\"\n",
        "    x: (d, )\n",
        "    theta: (d, )\n",
        "    \"\"\"\n",
        "    return (x * theta).sum()\n",
        "\n",
        "predict = jax.vmap(predict_single_example, in_axes=(0, None))\n",
        "\n",
        "print(predict(x, theta))"
      ],
      "metadata": {
        "id": "8m0SkLxwCNWl",
        "colab": {
          "base_uri": "https://localhost:8080/"
        },
        "outputId": "b0389307-1f77-4a1a-b0c2-c075ae6b7b9f"
      },
      "execution_count": null,
      "outputs": [
        {
          "output_type": "stream",
          "name": "stdout",
          "text": [
            "[ 0.7046675  -0.29442528  2.4415731  -3.5003483  -2.835635    2.4002323\n",
            "  3.6175876   3.0491467   6.2198896   0.02163917]\n"
          ]
        }
      ]
    },
    {
      "cell_type": "code",
      "source": [
        "def distance(x1, x2):\n",
        "    return (x1 - x2) ** 2\n",
        "\n",
        "x1_array = jnp.array([1, 2, 3])\n",
        "x2_array = jnp.array([5, 6])\n",
        "\n",
        "f1 = jax.vmap(distance, in_axes=(None, 0))\n",
        "f2 = jax.vmap(f1, in_axes=(0, None))\n",
        "\n",
        "f2(x1_array, x2_array)"
      ],
      "metadata": {
        "colab": {
          "base_uri": "https://localhost:8080/"
        },
        "id": "u_1NfkLMRMf7",
        "outputId": "96476595-d3a5-4b1d-fad0-4d91ceb0ce76"
      },
      "execution_count": null,
      "outputs": [
        {
          "output_type": "execute_result",
          "data": {
            "text/plain": [
              "DeviceArray([[16, 25],\n",
              "             [ 9, 16],\n",
              "             [ 4,  9]], dtype=int32)"
            ]
          },
          "metadata": {},
          "execution_count": 41
        }
      ]
    },
    {
      "cell_type": "markdown",
      "source": [
        "## TFP"
      ],
      "metadata": {
        "id": "Puh9HHyXFQlJ"
      }
    },
    {
      "cell_type": "code",
      "source": [
        "tfd = tfp.distributions"
      ],
      "metadata": {
        "id": "QrpBoiRR1Hr8"
      },
      "execution_count": null,
      "outputs": []
    },
    {
      "cell_type": "markdown",
      "source": [
        "### Distributions"
      ],
      "metadata": {
        "id": "O3rKRryX1LNP"
      }
    },
    {
      "cell_type": "code",
      "source": [
        "normal = tfd.Normal(loc=5.0, scale=1.0)\n",
        "normal"
      ],
      "metadata": {
        "id": "VOPNFSxI1Oay",
        "colab": {
          "base_uri": "https://localhost:8080/"
        },
        "outputId": "53cca3e4-bb3b-44ad-d6a5-c7737b28ec11"
      },
      "execution_count": null,
      "outputs": [
        {
          "output_type": "execute_result",
          "data": {
            "text/plain": [
              "<tfp.distributions.Normal 'Normal' batch_shape=[] event_shape=[] dtype=float32>"
            ]
          },
          "metadata": {},
          "execution_count": 43
        }
      ]
    },
    {
      "cell_type": "code",
      "source": [
        "normal_batched = tfd.Normal(loc=5.0, scale=[1.0, 0.1, 3.0])\n",
        "normal_batched.stddev()"
      ],
      "metadata": {
        "colab": {
          "base_uri": "https://localhost:8080/"
        },
        "id": "QFhKX9Gb8Qs4",
        "outputId": "29536cdb-8f45-4433-921b-7e64bf1122c7"
      },
      "execution_count": null,
      "outputs": [
        {
          "output_type": "execute_result",
          "data": {
            "text/plain": [
              "DeviceArray([1. , 0.1, 3. ], dtype=float32)"
            ]
          },
          "metadata": {},
          "execution_count": 53
        }
      ]
    },
    {
      "cell_type": "code",
      "source": [
        "sample = normal.sample(sample_shape=(2,), seed=key)\n",
        "sample"
      ],
      "metadata": {
        "id": "RelBe4ek1gD8",
        "colab": {
          "base_uri": "https://localhost:8080/"
        },
        "outputId": "bca6373c-f024-446c-8495-e062aec0309c"
      },
      "execution_count": null,
      "outputs": [
        {
          "output_type": "execute_result",
          "data": {
            "text/plain": [
              "DeviceArray([4.969502 , 5.4928904], dtype=float32)"
            ]
          },
          "metadata": {},
          "execution_count": 50
        }
      ]
    },
    {
      "cell_type": "code",
      "source": [
        "normal.prob(sample)"
      ],
      "metadata": {
        "id": "g0cNx4R61vYa",
        "colab": {
          "base_uri": "https://localhost:8080/"
        },
        "outputId": "cf7d3f05-b1d0-41cf-fc47-ebeeb189386d"
      },
      "execution_count": null,
      "outputs": [
        {
          "output_type": "execute_result",
          "data": {
            "text/plain": [
              "DeviceArray([0.3004415], dtype=float32)"
            ]
          },
          "metadata": {},
          "execution_count": 47
        }
      ]
    },
    {
      "cell_type": "code",
      "source": [
        "normal.log_prob(sample)"
      ],
      "metadata": {
        "id": "IY9J-kNW2-_p",
        "colab": {
          "base_uri": "https://localhost:8080/"
        },
        "outputId": "9991f298-23ee-4f6e-cbf0-f6a9a0e12bb3"
      },
      "execution_count": null,
      "outputs": [
        {
          "output_type": "execute_result",
          "data": {
            "text/plain": [
              "DeviceArray([-1.2025021], dtype=float32)"
            ]
          },
          "metadata": {},
          "execution_count": 48
        }
      ]
    },
    {
      "cell_type": "code",
      "source": [
        "sample_batch = normal_batched.sample(sample_shape=(1,), seed=key)\n",
        "sample_batch"
      ],
      "metadata": {
        "colab": {
          "base_uri": "https://localhost:8080/"
        },
        "id": "bLGyqmzo8kq0",
        "outputId": "d9b6db5f-9ed2-41cd-e789-725811e96d5f"
      },
      "execution_count": null,
      "outputs": [
        {
          "output_type": "execute_result",
          "data": {
            "text/plain": [
              "DeviceArray([[4.8529673, 5.055248 , 9.945494 ]], dtype=float32)"
            ]
          },
          "metadata": {},
          "execution_count": 54
        }
      ]
    },
    {
      "cell_type": "code",
      "source": [
        "normal_batched.log_prob(sample_batch)"
      ],
      "metadata": {
        "colab": {
          "base_uri": "https://localhost:8080/"
        },
        "id": "nHqKIve38tK4",
        "outputId": "30cff9a4-d264-4f7e-de35-c303db68d8a6"
      },
      "execution_count": null,
      "outputs": [
        {
          "output_type": "execute_result",
          "data": {
            "text/plain": [
              "DeviceArray([[-0.9297478,  1.2310302, -3.3763235]], dtype=float32)"
            ]
          },
          "metadata": {},
          "execution_count": 55
        }
      ]
    },
    {
      "cell_type": "code",
      "source": [
        "tfd.Normal(loc=5.0, scale=1.0).log_prob(sample_batch[:, 0])"
      ],
      "metadata": {
        "colab": {
          "base_uri": "https://localhost:8080/"
        },
        "id": "fiBW-df_UfFF",
        "outputId": "b6c43cd4-5769-47b7-8221-045de9db9042"
      },
      "execution_count": null,
      "outputs": [
        {
          "output_type": "execute_result",
          "data": {
            "text/plain": [
              "DeviceArray([-0.9297478], dtype=float32)"
            ]
          },
          "metadata": {},
          "execution_count": 61
        }
      ]
    },
    {
      "cell_type": "code",
      "source": [
        "support = jnp.linspace(0, 10, 100)\n",
        "\n",
        "# plt.plot(support, normal.log_prob(support));\n",
        "normal.prob(1), normal.prob(50), normal.prob(100)\n",
        "normal.log_prob(1), normal.log_prob(50), normal.log_prob(100000)"
      ],
      "metadata": {
        "colab": {
          "base_uri": "https://localhost:8080/"
        },
        "id": "H1_97dqEU2pn",
        "outputId": "6aeed93d-38fd-4848-89d8-cc2658b9db97"
      },
      "execution_count": null,
      "outputs": [
        {
          "output_type": "execute_result",
          "data": {
            "text/plain": [
              "(DeviceArray(-8.918939, dtype=float32),\n",
              " DeviceArray(-1013.41895, dtype=float32),\n",
              " DeviceArray(-4.9995e+09, dtype=float32))"
            ]
          },
          "metadata": {},
          "execution_count": 71
        }
      ]
    },
    {
      "cell_type": "markdown",
      "source": [
        "### Multivariate Normal"
      ],
      "metadata": {
        "id": "YIzRpZYp85oD"
      }
    },
    {
      "cell_type": "code",
      "source": [
        "mvn_diag = tfd.MultivariateNormalDiag\n",
        "mvn_low_rank = tfd.MultivariateNormalDiagPlusLowRank\n",
        "mvn = tfd.MultivariateNormalFullCovariance\n",
        "\n",
        "# Self-study"
      ],
      "metadata": {
        "id": "curA7RI789Gi"
      },
      "execution_count": null,
      "outputs": []
    },
    {
      "cell_type": "markdown",
      "source": [
        "### Beta distribution\n",
        "\n",
        "![image.png](data:image/png;base64,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)"
      ],
      "metadata": {
        "id": "Tw9iFhY63JmB"
      }
    },
    {
      "cell_type": "code",
      "source": [
        "support = jnp.linspace(0.01, 0.99, 100)\n",
        "\n",
        "@interact(alpha=(0.1, 5000.0), beta=(0.1, 5000.0))\n",
        "def plot_beta(alpha=1.0, beta=1.0):\n",
        "    dist = tfd.Beta(alpha, beta)\n",
        "    plt.plot(support, dist.prob(support))\n",
        "    plt.xlabel('$x$')\n",
        "    plt.ylabel('$p(x)$')"
      ],
      "metadata": {
        "colab": {
          "base_uri": "https://localhost:8080/",
          "height": 351,
          "referenced_widgets": [
            "8c4f0315928847e0b3c72c601ee4d7d2",
            "288df2195d944d3aadba41687be1c291",
            "26a1798337d741c590c6ed8da056d855",
            "621cb0e33d2c45cc8b567040744f86cc",
            "8ae7c20c98c94124baa16b9f0a827d6e",
            "c0d5b88d6e394be0b65d04f3ec66625b",
            "b18cefd9e2824b8b9f70d06bb22f2b88",
            "db58677b030e45a083ed1141fbc406c4",
            "bcd0aeb17bf7491985388d6a127d0b71",
            "350a17e218054135a135417dfa2ba412"
          ]
        },
        "id": "xFeM0iAi3OIZ",
        "outputId": "6b7490d3-b9c8-496f-d4a6-b6ca680df4e4"
      },
      "execution_count": null,
      "outputs": [
        {
          "output_type": "display_data",
          "data": {
            "text/plain": [
              "interactive(children=(FloatSlider(value=1.0, description='alpha', max=5000.0, min=0.1), FloatSlider(value=1.0,…"
            ],
            "application/vnd.jupyter.widget-view+json": {
              "version_major": 2,
              "version_minor": 0,
              "model_id": "8c4f0315928847e0b3c72c601ee4d7d2"
            }
          },
          "metadata": {}
        }
      ]
    },
    {
      "cell_type": "markdown",
      "source": [
        "### Student-T distribution\n",
        "![image.png](data:image/png;base64,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)"
      ],
      "metadata": {
        "id": "_DdkOTOT4ntF"
      }
    },
    {
      "cell_type": "code",
      "source": [
        "@interact(df=(0.1, 10.0), loc=(0.1, 5.0), scale=(0.1, 5.0))\n",
        "def plot_beta(df=1.0, loc=10.0, scale=1.0):\n",
        "    support = jnp.linspace(loc-3*scale, loc+3*scale, 100)\n",
        "    dist = tfd.StudentT(df=df, loc=loc, scale=scale)\n",
        "    plt.plot(support, dist.prob(support))\n",
        "    plt.xlabel('$x$')\n",
        "    plt.ylabel('$p(x)$')"
      ],
      "metadata": {
        "colab": {
          "base_uri": "https://localhost:8080/",
          "height": 383,
          "referenced_widgets": [
            "2bba47e1ddd8411c8b5f10a31d0460a6",
            "f44082bfcb4841c18e582418143589fc",
            "24e7bfea558c41e9b1b2388d7b2249c5",
            "da8e407f89c444ed8bf62f0bdcb11a0c",
            "096cbbac3b3e4f1ab595b847c7936b98",
            "7d2c9788a53c4778924e0998a8630382",
            "1cf3ae9dace74e8ca96570d98e7c96ad",
            "a7880282ca0f4c0d96871c292ae0c2d8",
            "1bd7beb736a54fb4acc326ac1bffcaee",
            "bafaefba02c9419f83a5f506752cbf75",
            "1b099982576a4d88935e7423716b9f6d",
            "3fd46a2f4e934089abb5027f2f934f11",
            "d6d6777696ef47a6b1de32e076847649"
          ]
        },
        "id": "7ycu2BmN5GPA",
        "outputId": "e6723461-cefc-4aca-e30c-d2fe08fcc4b1"
      },
      "execution_count": null,
      "outputs": [
        {
          "output_type": "display_data",
          "data": {
            "text/plain": [
              "interactive(children=(FloatSlider(value=1.0, description='df', max=10.0, min=0.1), FloatSlider(value=5.0, desc…"
            ],
            "application/vnd.jupyter.widget-view+json": {
              "version_major": 2,
              "version_minor": 0,
              "model_id": "2bba47e1ddd8411c8b5f10a31d0460a6"
            }
          },
          "metadata": {}
        }
      ]
    },
    {
      "cell_type": "markdown",
      "source": [
        "### Self-study: Compare StudentT with Normal keeping same `loc` and `scale` in both. What do you observe?"
      ],
      "metadata": {
        "id": "saZ4cLXl6OAS"
      }
    },
    {
      "cell_type": "markdown",
      "source": [
        "### Self-study: `tfb = tfp.bijectors`"
      ],
      "metadata": {
        "id": "HDk6JNla8IBI"
      }
    },
    {
      "cell_type": "markdown",
      "source": [
        "## Likelihood plotting"
      ],
      "metadata": {
        "id": "opdIr7zfFSop"
      }
    },
    {
      "cell_type": "markdown",
      "source": [
        "Likelihood: $p(\\mathcal{D}/\\boldsymbol{\\theta})$"
      ],
      "metadata": {
        "id": "-G_Z9UCg6gsk"
      }
    },
    {
      "cell_type": "code",
      "source": [
        "theta = 0.3\n",
        "bernoulli = tfd.Bernoulli(probs=theta)"
      ],
      "metadata": {
        "id": "wELink4t59vq"
      },
      "execution_count": null,
      "outputs": []
    },
    {
      "cell_type": "code",
      "source": [
        "data = bernoulli.sample(sample_shape=(10,), seed=key)\n",
        "data"
      ],
      "metadata": {
        "id": "z9tvQfPr6HQY",
        "colab": {
          "base_uri": "https://localhost:8080/"
        },
        "outputId": "110b69a1-1ebf-4e58-a54f-bf0bbb3066ed"
      },
      "execution_count": null,
      "outputs": [
        {
          "output_type": "execute_result",
          "data": {
            "text/plain": [
              "DeviceArray([0, 1, 1, 1, 0, 0, 0, 0, 1, 1], dtype=int32)"
            ]
          },
          "metadata": {},
          "execution_count": 76
        }
      ]
    },
    {
      "cell_type": "code",
      "source": [
        "def prob(theta, data):\n",
        "    dist = tfd.Bernoulli(probs=theta)\n",
        "    prob = 1\n",
        "    for i in range(len(data)):\n",
        "        prob *= dist.prob(data[i])\n",
        "    return prob\n",
        "\n",
        "prob(theta=0.3, data=data)"
      ],
      "metadata": {
        "id": "P5u8bdxe6Qso",
        "colab": {
          "base_uri": "https://localhost:8080/"
        },
        "outputId": "01d4ad28-8172-4fdf-9883-d213588d63f6"
      },
      "execution_count": null,
      "outputs": [
        {
          "output_type": "execute_result",
          "data": {
            "text/plain": [
              "DeviceArray(0.00040841, dtype=float32)"
            ]
          },
          "metadata": {},
          "execution_count": 79
        }
      ]
    },
    {
      "cell_type": "code",
      "source": [
        "theta = jnp.linspace(0.01, 0.99, 100)\n",
        "\n",
        "vectorized_prob = jax.vmap(prob, in_axes=(0, None))\n",
        "probs = vectorized_prob(theta, data)\n",
        "probs.shape"
      ],
      "metadata": {
        "id": "iWMn7_A86pzx",
        "colab": {
          "base_uri": "https://localhost:8080/"
        },
        "outputId": "aa4f8055-6549-42f2-8885-acdadde98743"
      },
      "execution_count": null,
      "outputs": [
        {
          "output_type": "execute_result",
          "data": {
            "text/plain": [
              "(100,)"
            ]
          },
          "metadata": {},
          "execution_count": 80
        }
      ]
    },
    {
      "cell_type": "code",
      "source": [
        "plt.plot(theta, probs)\n",
        "plt.xlabel(r\"Probability of head: $\\theta$\")\n",
        "plt.ylabel(r\"likelihood: $p(\\mathcal{D}|\\theta)$\")\n",
        "plt.title(f\"Data ={data}\");"
      ],
      "metadata": {
        "id": "kR1HZb6u7OVp",
        "colab": {
          "base_uri": "https://localhost:8080/",
          "height": 311
        },
        "outputId": "daafb4bc-5622-4775-b902-1709638fa586"
      },
      "execution_count": null,
      "outputs": [
        {
          "output_type": "display_data",
          "data": {
            "text/plain": [
              "<Figure size 432x288 with 1 Axes>"
            ],
            "image/png": "[encoded data removed]"
          },
          "metadata": {
            "needs_background": "light"
          }
        }
      ]
    },
    {
      "cell_type": "code",
      "source": [
        "@interact(seed=(1, 10))\n",
        "def plot_likelihood(seed):\n",
        "    key = jax.random.PRNGKey(seed)\n",
        "    data = bernoulli.sample(sample_shape=(10,), seed=key)\n",
        "    probs = vectorized_prob(theta, data)\n",
        "    plt.plot(theta, probs)\n",
        "    plt.xticks(jnp.linspace(0,1,11))\n",
        "    plt.xlabel(r\"Probability of head: $\\theta$\")\n",
        "    plt.ylabel(r\"likelihood: $p(\\mathcal{D}|\\theta)$\")\n",
        "    plt.title(f\"Data ={data}\")\n",
        "    plt.grid(True)"
      ],
      "metadata": {
        "colab": {
          "base_uri": "https://localhost:8080/",
          "height": 343,
          "referenced_widgets": [
            "45a3fc64f084403481b5b06ff8b2d927",
            "9ac7b51898544e6493b992adcf12c9fc",
            "40c762f6b288469db6760a2e3615f0c7",
            "c2e29d88401042ffad1e908486d23dec",
            "1288670de9cc4f879c0f264f5bff1cfa",
            "6507a4d691b74949be2d338d1440eeb8",
            "c24b88f494884ac5b1d4397bbbfa9be9"
          ]
        },
        "id": "KMS1VTi27NqC",
        "outputId": "2e98b0ff-0988-4928-e689-f1ca632c10d4"
      },
      "execution_count": null,
      "outputs": [
        {
          "output_type": "display_data",
          "data": {
            "text/plain": [
              "interactive(children=(IntSlider(value=5, description='seed', max=10, min=1), Output()), _dom_classes=('widget-…"
            ],
            "application/vnd.jupyter.widget-view+json": {
              "version_major": 2,
              "version_minor": 0,
              "model_id": "45a3fc64f084403481b5b06ff8b2d927"
            }
          },
          "metadata": {}
        }
      ]
    },
    {
      "cell_type": "markdown",
      "source": [
        "## Gradient descent"
      ],
      "metadata": {
        "id": "mX_vJ2i6FhUs"
      }
    },
    {
      "cell_type": "markdown",
      "source": [
        "### `grad` and `value_and_grad`"
      ],
      "metadata": {
        "id": "KE4wbdI08aur"
      }
    },
    {
      "cell_type": "code",
      "source": [
        "def poly(x):\n",
        "    return 3 * x ** 2 + 5*x + 4\n",
        "\n",
        "def d_poly(x):\n",
        "    return 6 * x + 5\n",
        "\n",
        "x = jnp.array(2.0)\n",
        "print(f\"x: {poly(x)}\")\n",
        "print(f\"df/dx: {d_poly(x)}\")"
      ],
      "metadata": {
        "id": "w3tStt1k8Z1t",
        "colab": {
          "base_uri": "https://localhost:8080/"
        },
        "outputId": "4f593c19-400c-417c-a383-b13b278ee180"
      },
      "execution_count": null,
      "outputs": [
        {
          "output_type": "stream",
          "name": "stdout",
          "text": [
            "x: 26.0\n",
            "df/dx: 17.0\n"
          ]
        }
      ]
    },
    {
      "cell_type": "code",
      "source": [
        "poly_grad = jax.grad(poly, argnums=0)\n",
        "print(f\"df/dx: {poly_grad(x)}\")"
      ],
      "metadata": {
        "id": "BgDmk2ZA9Jzs",
        "colab": {
          "base_uri": "https://localhost:8080/"
        },
        "outputId": "e7adfc21-3732-4e92-c922-51edd88d767d"
      },
      "execution_count": null,
      "outputs": [
        {
          "output_type": "stream",
          "name": "stdout",
          "text": [
            "df/dx: 17.0\n"
          ]
        }
      ]
    },
    {
      "cell_type": "code",
      "source": [
        "poly_value_and_grad = jax.value_and_grad(poly, argnums=0)\n",
        "f_val, f_grad = poly_value_and_grad(x)\n",
        "print(f\"f(x): {f_val}, df/dx: {f_grad}\")"
      ],
      "metadata": {
        "id": "q_Ago9Nf9XgU",
        "colab": {
          "base_uri": "https://localhost:8080/"
        },
        "outputId": "98727e2d-1131-4ce6-b48a-8ee1f08406bf"
      },
      "execution_count": null,
      "outputs": [
        {
          "output_type": "stream",
          "name": "stdout",
          "text": [
            "f(x): 26.0, df/dx: 17.0\n"
          ]
        }
      ]
    },
    {
      "cell_type": "markdown",
      "source": [
        "### Handle more than one parameters"
      ],
      "metadata": {
        "id": "yO_jW9GJAG05"
      }
    },
    {
      "cell_type": "code",
      "source": [
        "def loss_fn(params, arg1, arg2):\n",
        "    p1, p2, p3 = params\n",
        "    # OR\n",
        "    params['p1']\n",
        "    # OR\n",
        "    p1, others = params\n",
        "    others['p2'], others['p3']\n",
        "    ...\n",
        "    ...\n",
        "\n",
        "params = (0.0, {'p1': 0.2, 'p3': [0.3, 0.1]}, [3.0, 4.0], jnp.array([0.4, 0.5]))\n",
        "params"
      ],
      "metadata": {
        "id": "JHPG2DHXAKUH",
        "colab": {
          "base_uri": "https://localhost:8080/"
        },
        "outputId": "7e8a46f2-2e07-4f4a-cb68-28a73a5382d6"
      },
      "execution_count": null,
      "outputs": [
        {
          "output_type": "execute_result",
          "data": {
            "text/plain": [
              "(0.0,\n",
              " {'p1': 0.2, 'p3': [0.3, 0.1]},\n",
              " [3.0, 4.0],\n",
              " DeviceArray([0.4, 0.5], dtype=float32))"
            ]
          },
          "metadata": {},
          "execution_count": 80
        }
      ]
    },
    {
      "cell_type": "markdown",
      "source": [
        "### Self-study: Checkout `PyTrees` and `jax.tree_util` in JAX"
      ],
      "metadata": {
        "id": "M-ArK0atAzCG"
      }
    },
    {
      "cell_type": "markdown",
      "source": [
        "## Coin toss - Maximum Likelihood Estimation (MLE)"
      ],
      "metadata": {
        "id": "EH3VxpXFFmSv"
      }
    },
    {
      "cell_type": "code",
      "source": [
        "data = bernoulli.sample(sample_shape=(20,), seed=key)\n",
        "data"
      ],
      "metadata": {
        "id": "54Jh3-bA949p",
        "colab": {
          "base_uri": "https://localhost:8080/"
        },
        "outputId": "ecb14bb1-2564-4fca-b52b-4b8d025ec442"
      },
      "execution_count": null,
      "outputs": [
        {
          "output_type": "execute_result",
          "data": {
            "text/plain": [
              "DeviceArray([0, 1, 0, 0, 1, 0, 0, 0, 0, 0, 0, 0, 0, 0, 1, 0, 0, 1, 1, 0], dtype=int32)"
            ]
          },
          "metadata": {},
          "execution_count": 86
        }
      ]
    },
    {
      "cell_type": "code",
      "source": [
        "def neg_log_likelihood(theta, data):\n",
        "    dist = tfd.Bernoulli(probs=theta)\n",
        "    return -dist.log_prob(data).sum()"
      ],
      "metadata": {
        "id": "7TerjqMX-Trr"
      },
      "execution_count": null,
      "outputs": []
    },
    {
      "cell_type": "code",
      "source": [
        "value_and_grad_fn = jax.jit(jax.value_and_grad(neg_log_likelihood))\n",
        "epochs = 100\n",
        "learning_rate = 0.001\n",
        "\n",
        "losses = []\n",
        "theta = 0.05  # initialization (Note that this is a Python float and not JAX array, still it works!)\n",
        "for _ in trange(epochs):\n",
        "    value, grad = value_and_grad_fn(theta, data)\n",
        "    losses.append(value)\n",
        "\n",
        "    theta = theta - learning_rate * grad"
      ],
      "metadata": {
        "id": "ElEpPdvF-mra",
        "colab": {
          "base_uri": "https://localhost:8080/"
        },
        "outputId": "0d7faf2b-e52b-42cc-a151-dba3e50ae024"
      },
      "execution_count": null,
      "outputs": [
        {
          "output_type": "stream",
          "name": "stderr",
          "text": [
            "100%|██████████| 100/100 [00:00<00:00, 463.24it/s]\n"
          ]
        }
      ]
    },
    {
      "cell_type": "code",
      "source": [
        "plt.plot(losses);"
      ],
      "metadata": {
        "id": "z8w5gPhwBa8o",
        "colab": {
          "base_uri": "https://localhost:8080/",
          "height": 269
        },
        "outputId": "1789edf0-8634-4a96-dbd8-66306d0c67b0"
      },
      "execution_count": null,
      "outputs": [
        {
          "output_type": "display_data",
          "data": {
            "text/plain": [
              "<Figure size 432x288 with 1 Axes>"
            ],
            "image/png": "[encoded data removed]"
          },
          "metadata": {
            "needs_background": "light"
          }
        }
      ]
    },
    {
      "cell_type": "code",
      "source": [
        "theta"
      ],
      "metadata": {
        "id": "7KG-0THFBvvG",
        "colab": {
          "base_uri": "https://localhost:8080/"
        },
        "outputId": "e9452f6e-c00a-4a05-9ba8-aa88676147dd"
      },
      "execution_count": null,
      "outputs": [
        {
          "output_type": "execute_result",
          "data": {
            "text/plain": [
              "DeviceArray(0.2499989, dtype=float32, weak_type=True)"
            ]
          },
          "metadata": {},
          "execution_count": 90
        }
      ]
    },
    {
      "cell_type": "markdown",
      "source": [
        "### Optimization with optax"
      ],
      "metadata": {
        "id": "QdoQqKljCSde"
      }
    },
    {
      "cell_type": "code",
      "source": [
        "theta = 0.5\n",
        "optimizer = optax.adam(learning_rate=0.01)\n",
        "state = optimizer.init(theta)\n",
        "\n",
        "losses = []\n",
        "for _ in trange(epochs):\n",
        "    value, grad = value_and_grad_fn(theta, data)\n",
        "    losses.append(value)\n",
        "    update, state = optimizer.update(grad, state)\n",
        "    theta = optax.apply_updates(theta, update)"
      ],
      "metadata": {
        "id": "4a5fRFXCCU6Q",
        "colab": {
          "base_uri": "https://localhost:8080/"
        },
        "outputId": "21847ccc-bc0d-4289-ce86-10b7c601449d"
      },
      "execution_count": null,
      "outputs": [
        {
          "output_type": "stream",
          "name": "stderr",
          "text": [
            "100%|██████████| 100/100 [00:00<00:00, 434.82it/s]\n"
          ]
        }
      ]
    },
    {
      "cell_type": "code",
      "source": [
        "plt.plot(losses);"
      ],
      "metadata": {
        "id": "YoeqETgxC_8Q",
        "colab": {
          "base_uri": "https://localhost:8080/",
          "height": 269
        },
        "outputId": "a46a93ce-b181-4354-bd11-3eeca4495567"
      },
      "execution_count": null,
      "outputs": [
        {
          "output_type": "display_data",
          "data": {
            "text/plain": [
              "<Figure size 432x288 with 1 Axes>"
            ],
            "image/png": "[encoded data removed]"
          },
          "metadata": {
            "needs_background": "light"
          }
        }
      ]
    },
    {
      "cell_type": "code",
      "source": [
        "theta"
      ],
      "metadata": {
        "id": "fXILkCqKDGyM",
        "colab": {
          "base_uri": "https://localhost:8080/"
        },
        "outputId": "9f7848fc-e753-4311-dfe0-d038a4b7987b"
      },
      "execution_count": null,
      "outputs": [
        {
          "output_type": "execute_result",
          "data": {
            "text/plain": [
              "DeviceArray(0.24866374, dtype=float32)"
            ]
          },
          "metadata": {},
          "execution_count": 94
        }
      ]
    },
    {
      "cell_type": "markdown",
      "source": [
        "## A debugging tip"
      ],
      "metadata": {
        "id": "nO-sEkqPEibR"
      }
    },
    {
      "cell_type": "markdown",
      "source": [
        "### Debug NaNs"
      ],
      "metadata": {
        "id": "SuQs4ww1Em9J"
      }
    },
    {
      "cell_type": "code",
      "source": [
        "from jax.config import config\n",
        "config.update(\"jax_debug_nans\", False)\n",
        "\n",
        "jnp.array(0.0)/jnp.array(0.0)"
      ],
      "metadata": {
        "id": "usZWeX_WExa0",
        "colab": {
          "base_uri": "https://localhost:8080/"
        },
        "outputId": "699b7f4e-d54b-4030-ac6b-a87fca3051ba"
      },
      "execution_count": null,
      "outputs": [
        {
          "output_type": "execute_result",
          "data": {
            "text/plain": [
              "DeviceArray(nan, dtype=float32, weak_type=True)"
            ]
          },
          "metadata": {},
          "execution_count": 95
        }
      ]
    },
    {
      "cell_type": "code",
      "source": [
        "config.update(\"jax_debug_nans\", True)\n",
        "jnp.array(0.0)/jnp.array(0.0)"
      ],
      "metadata": {
        "id": "PxfEXF5QElvW",
        "colab": {
          "base_uri": "https://localhost:8080/",
          "height": 1000
        },
        "outputId": "961dad45-2eb1-47d8-91f9-684811b3949d"
      },
      "execution_count": null,
      "outputs": [
        {
          "output_type": "stream",
          "name": "stdout",
          "text": [
            "Invalid nan value encountered in the output of a C++-jit/pmap function. Calling the de-optimized version.\n",
            "Invalid value encountered in the output of a jit-decorated function. Calling the de-optimized version.\n"
          ]
        },
        {
          "output_type": "error",
          "ename": "FloatingPointError",
          "evalue": "ignored",
          "traceback": [
            "\u001b[0;31m---------------------------------------------------------------------------\u001b[0m",
            "\u001b[0;31mFloatingPointError\u001b[0m                        Traceback (most recent call last)",
            "File \u001b[0;32m~/miniconda3/envs/jax_gpu/lib/python3.9/site-packages/jax/_src/api.py:139\u001b[0m, in \u001b[0;36m_nan_check_posthook\u001b[0;34m(fun, args, kwargs, output)\u001b[0m\n\u001b[1;32m    138\u001b[0m \u001b[38;5;28;01mtry\u001b[39;00m:\n\u001b[0;32m--> 139\u001b[0m   \u001b[43mdispatch\u001b[49m\u001b[38;5;241;43m.\u001b[39;49m\u001b[43mcheck_special\u001b[49m\u001b[43m(\u001b[49m\u001b[43mxla\u001b[49m\u001b[38;5;241;43m.\u001b[39;49m\u001b[43mxla_call_p\u001b[49m\u001b[43m,\u001b[49m\u001b[43m \u001b[49m\u001b[43mbuffers\u001b[49m\u001b[43m)\u001b[49m\n\u001b[1;32m    140\u001b[0m \u001b[38;5;28;01mexcept\u001b[39;00m \u001b[38;5;167;01mFloatingPointError\u001b[39;00m:\n\u001b[1;32m    141\u001b[0m   \u001b[38;5;66;03m# compiled_fun can only raise in this case\u001b[39;00m\n",
            "File \u001b[0;32m~/miniconda3/envs/jax_gpu/lib/python3.9/site-packages/jax/_src/dispatch.py:676\u001b[0m, in \u001b[0;36mcheck_special\u001b[0;34m(name, bufs)\u001b[0m\n\u001b[1;32m    675\u001b[0m \u001b[38;5;28;01mfor\u001b[39;00m buf \u001b[38;5;129;01min\u001b[39;00m bufs:\n\u001b[0;32m--> 676\u001b[0m   \u001b[43m_check_special\u001b[49m\u001b[43m(\u001b[49m\u001b[43mname\u001b[49m\u001b[43m,\u001b[49m\u001b[43m \u001b[49m\u001b[43mbuf\u001b[49m\u001b[38;5;241;43m.\u001b[39;49m\u001b[43mxla_shape\u001b[49m\u001b[43m(\u001b[49m\u001b[43m)\u001b[49m\u001b[43m,\u001b[49m\u001b[43m \u001b[49m\u001b[43mbuf\u001b[49m\u001b[43m)\u001b[49m\n",
            "File \u001b[0;32m~/miniconda3/envs/jax_gpu/lib/python3.9/site-packages/jax/_src/dispatch.py:682\u001b[0m, in \u001b[0;36m_check_special\u001b[0;34m(name, xla_shape, buf)\u001b[0m\n\u001b[1;32m    681\u001b[0m \u001b[38;5;28;01mif\u001b[39;00m config\u001b[38;5;241m.\u001b[39mjax_debug_nans \u001b[38;5;129;01mand\u001b[39;00m np\u001b[38;5;241m.\u001b[39many(np\u001b[38;5;241m.\u001b[39misnan(buf\u001b[38;5;241m.\u001b[39mto_py())):\n\u001b[0;32m--> 682\u001b[0m   \u001b[38;5;28;01mraise\u001b[39;00m \u001b[38;5;167;01mFloatingPointError\u001b[39;00m(\u001b[38;5;124mf\u001b[39m\u001b[38;5;124m\"\u001b[39m\u001b[38;5;124minvalid value (nan) encountered in \u001b[39m\u001b[38;5;132;01m{\u001b[39;00mname\u001b[38;5;132;01m}\u001b[39;00m\u001b[38;5;124m\"\u001b[39m)\n\u001b[1;32m    683\u001b[0m \u001b[38;5;28;01mif\u001b[39;00m config\u001b[38;5;241m.\u001b[39mjax_debug_infs \u001b[38;5;129;01mand\u001b[39;00m np\u001b[38;5;241m.\u001b[39many(np\u001b[38;5;241m.\u001b[39misinf(buf\u001b[38;5;241m.\u001b[39mto_py())):\n",
            "\u001b[0;31mFloatingPointError\u001b[0m: invalid value (nan) encountered in xla_call",
            "\nDuring handling of the above exception, another exception occurred:\n",
            "\u001b[0;31mFloatingPointError\u001b[0m                        Traceback (most recent call last)",
            "    \u001b[0;31m[... skipping hidden 1 frame]\u001b[0m\n",
            "File \u001b[0;32m~/miniconda3/envs/jax_gpu/lib/python3.9/site-packages/jax/_src/dispatch.py:718\u001b[0m, in \u001b[0;36m_execute_compiled\u001b[0;34m(name, compiled, input_handler, output_buffer_counts, result_handler, has_unordered_effects, ordered_effects, kept_var_idx, *args)\u001b[0m\n\u001b[1;32m    717\u001b[0m out_flat \u001b[38;5;241m=\u001b[39m compiled\u001b[38;5;241m.\u001b[39mexecute(in_flat)\n\u001b[0;32m--> 718\u001b[0m \u001b[43mcheck_special\u001b[49m\u001b[43m(\u001b[49m\u001b[43mname\u001b[49m\u001b[43m,\u001b[49m\u001b[43m \u001b[49m\u001b[43mout_flat\u001b[49m\u001b[43m)\u001b[49m\n\u001b[1;32m    719\u001b[0m out_bufs \u001b[38;5;241m=\u001b[39m unflatten(out_flat, output_buffer_counts)\n",
            "File \u001b[0;32m~/miniconda3/envs/jax_gpu/lib/python3.9/site-packages/jax/_src/dispatch.py:676\u001b[0m, in \u001b[0;36mcheck_special\u001b[0;34m(name, bufs)\u001b[0m\n\u001b[1;32m    675\u001b[0m \u001b[38;5;28;01mfor\u001b[39;00m buf \u001b[38;5;129;01min\u001b[39;00m bufs:\n\u001b[0;32m--> 676\u001b[0m   \u001b[43m_check_special\u001b[49m\u001b[43m(\u001b[49m\u001b[43mname\u001b[49m\u001b[43m,\u001b[49m\u001b[43m \u001b[49m\u001b[43mbuf\u001b[49m\u001b[38;5;241;43m.\u001b[39;49m\u001b[43mxla_shape\u001b[49m\u001b[43m(\u001b[49m\u001b[43m)\u001b[49m\u001b[43m,\u001b[49m\u001b[43m \u001b[49m\u001b[43mbuf\u001b[49m\u001b[43m)\u001b[49m\n",
            "File \u001b[0;32m~/miniconda3/envs/jax_gpu/lib/python3.9/site-packages/jax/_src/dispatch.py:682\u001b[0m, in \u001b[0;36m_check_special\u001b[0;34m(name, xla_shape, buf)\u001b[0m\n\u001b[1;32m    681\u001b[0m \u001b[38;5;28;01mif\u001b[39;00m config\u001b[38;5;241m.\u001b[39mjax_debug_nans \u001b[38;5;129;01mand\u001b[39;00m np\u001b[38;5;241m.\u001b[39many(np\u001b[38;5;241m.\u001b[39misnan(buf\u001b[38;5;241m.\u001b[39mto_py())):\n\u001b[0;32m--> 682\u001b[0m   \u001b[38;5;28;01mraise\u001b[39;00m \u001b[38;5;167;01mFloatingPointError\u001b[39;00m(\u001b[38;5;124mf\u001b[39m\u001b[38;5;124m\"\u001b[39m\u001b[38;5;124minvalid value (nan) encountered in \u001b[39m\u001b[38;5;132;01m{\u001b[39;00mname\u001b[38;5;132;01m}\u001b[39;00m\u001b[38;5;124m\"\u001b[39m)\n\u001b[1;32m    683\u001b[0m \u001b[38;5;28;01mif\u001b[39;00m config\u001b[38;5;241m.\u001b[39mjax_debug_infs \u001b[38;5;129;01mand\u001b[39;00m np\u001b[38;5;241m.\u001b[39many(np\u001b[38;5;241m.\u001b[39misinf(buf\u001b[38;5;241m.\u001b[39mto_py())):\n",
            "\u001b[0;31mFloatingPointError\u001b[0m: invalid value (nan) encountered in true_divide",
            "\nDuring handling of the above exception, another exception occurred:\n",
            "\u001b[0;31mFloatingPointError\u001b[0m                        Traceback (most recent call last)",
            "Input \u001b[0;32mIn [96]\u001b[0m, in \u001b[0;36m<cell line: 2>\u001b[0;34m()\u001b[0m\n\u001b[1;32m      1\u001b[0m config\u001b[38;5;241m.\u001b[39mupdate(\u001b[38;5;124m\"\u001b[39m\u001b[38;5;124mjax_debug_nans\u001b[39m\u001b[38;5;124m\"\u001b[39m, \u001b[38;5;28;01mTrue\u001b[39;00m)\n\u001b[0;32m----> 2\u001b[0m \u001b[43mjnp\u001b[49m\u001b[38;5;241;43m.\u001b[39;49m\u001b[43marray\u001b[49m\u001b[43m(\u001b[49m\u001b[38;5;241;43m0.0\u001b[39;49m\u001b[43m)\u001b[49m\u001b[38;5;241;43m/\u001b[39;49m\u001b[43mjnp\u001b[49m\u001b[38;5;241;43m.\u001b[39;49m\u001b[43marray\u001b[49m\u001b[43m(\u001b[49m\u001b[38;5;241;43m0.0\u001b[39;49m\u001b[43m)\u001b[49m\n",
            "File \u001b[0;32m~/miniconda3/envs/jax_gpu/lib/python3.9/site-packages/jax/_src/numpy/lax_numpy.py:4586\u001b[0m, in \u001b[0;36m_defer_to_unrecognized_arg.<locals>.deferring_binary_op\u001b[0;34m(self, other)\u001b[0m\n\u001b[1;32m   4584\u001b[0m \u001b[38;5;28;01mif\u001b[39;00m \u001b[38;5;129;01mnot\u001b[39;00m \u001b[38;5;28misinstance\u001b[39m(other, _accepted_binop_types):\n\u001b[1;32m   4585\u001b[0m   \u001b[38;5;28;01mreturn\u001b[39;00m \u001b[38;5;28mNotImplemented\u001b[39m\n\u001b[0;32m-> 4586\u001b[0m \u001b[38;5;28;01mreturn\u001b[39;00m \u001b[43mbinary_op\u001b[49m\u001b[43m(\u001b[49m\u001b[38;5;28;43mself\u001b[39;49m\u001b[43m,\u001b[49m\u001b[43m \u001b[49m\u001b[43mother\u001b[49m\u001b[43m)\u001b[49m\n",
            "File \u001b[0;32m~/miniconda3/envs/jax_gpu/lib/python3.9/site-packages/jax/_src/api.py:145\u001b[0m, in \u001b[0;36m_nan_check_posthook\u001b[0;34m(fun, args, kwargs, output)\u001b[0m\n\u001b[1;32m    142\u001b[0m \u001b[38;5;28;01massert\u001b[39;00m config\u001b[38;5;241m.\u001b[39mjax_debug_nans \u001b[38;5;129;01mor\u001b[39;00m config\u001b[38;5;241m.\u001b[39mjax_debug_infs\n\u001b[1;32m    143\u001b[0m \u001b[38;5;28mprint\u001b[39m(\u001b[38;5;124m\"\u001b[39m\u001b[38;5;124mInvalid nan value encountered in the output of a C++-jit/pmap \u001b[39m\u001b[38;5;124m\"\u001b[39m\n\u001b[1;32m    144\u001b[0m       \u001b[38;5;124m\"\u001b[39m\u001b[38;5;124mfunction. Calling the de-optimized version.\u001b[39m\u001b[38;5;124m\"\u001b[39m)\n\u001b[0;32m--> 145\u001b[0m \u001b[43mfun\u001b[49m\u001b[38;5;241;43m.\u001b[39;49m\u001b[43m_cache_miss\u001b[49m\u001b[43m(\u001b[49m\u001b[38;5;241;43m*\u001b[39;49m\u001b[43margs\u001b[49m\u001b[43m,\u001b[49m\u001b[43m \u001b[49m\u001b[38;5;241;43m*\u001b[39;49m\u001b[38;5;241;43m*\u001b[39;49m\u001b[43mkwargs\u001b[49m\u001b[43m)\u001b[49m[\u001b[38;5;241m0\u001b[39m]\n",
            "    \u001b[0;31m[... skipping hidden 7 frame]\u001b[0m\n",
            "File \u001b[0;32m~/miniconda3/envs/jax_gpu/lib/python3.9/site-packages/jax/_src/numpy/ufuncs.py:234\u001b[0m, in \u001b[0;36mtrue_divide\u001b[0;34m(x1, x2)\u001b[0m\n\u001b[1;32m    230\u001b[0m \u001b[38;5;129m@_wraps\u001b[39m(np\u001b[38;5;241m.\u001b[39mtrue_divide)\n\u001b[1;32m    231\u001b[0m \u001b[38;5;129m@partial\u001b[39m(jit, inline\u001b[38;5;241m=\u001b[39m\u001b[38;5;28;01mTrue\u001b[39;00m)\n\u001b[1;32m    232\u001b[0m \u001b[38;5;28;01mdef\u001b[39;00m \u001b[38;5;21mtrue_divide\u001b[39m(x1, x2):\n\u001b[1;32m    233\u001b[0m   x1, x2 \u001b[38;5;241m=\u001b[39m _promote_args_inexact(\u001b[38;5;124m\"\u001b[39m\u001b[38;5;124mtrue_divide\u001b[39m\u001b[38;5;124m\"\u001b[39m, x1, x2)\n\u001b[0;32m--> 234\u001b[0m   \u001b[38;5;28;01mreturn\u001b[39;00m \u001b[43mlax\u001b[49m\u001b[38;5;241;43m.\u001b[39;49m\u001b[43mdiv\u001b[49m\u001b[43m(\u001b[49m\u001b[43mx1\u001b[49m\u001b[43m,\u001b[49m\u001b[43m \u001b[49m\u001b[43mx2\u001b[49m\u001b[43m)\u001b[49m\n",
            "    \u001b[0;31m[... skipping hidden 8 frame]\u001b[0m\n",
            "File \u001b[0;32m~/miniconda3/envs/jax_gpu/lib/python3.9/site-packages/jax/_src/dispatch.py:682\u001b[0m, in \u001b[0;36m_check_special\u001b[0;34m(name, xla_shape, buf)\u001b[0m\n\u001b[1;32m    680\u001b[0m \u001b[38;5;28;01mif\u001b[39;00m dtypes\u001b[38;5;241m.\u001b[39missubdtype(xla_shape\u001b[38;5;241m.\u001b[39melement_type(), np\u001b[38;5;241m.\u001b[39minexact):\n\u001b[1;32m    681\u001b[0m   \u001b[38;5;28;01mif\u001b[39;00m config\u001b[38;5;241m.\u001b[39mjax_debug_nans \u001b[38;5;129;01mand\u001b[39;00m np\u001b[38;5;241m.\u001b[39many(np\u001b[38;5;241m.\u001b[39misnan(buf\u001b[38;5;241m.\u001b[39mto_py())):\n\u001b[0;32m--> 682\u001b[0m     \u001b[38;5;28;01mraise\u001b[39;00m \u001b[38;5;167;01mFloatingPointError\u001b[39;00m(\u001b[38;5;124mf\u001b[39m\u001b[38;5;124m\"\u001b[39m\u001b[38;5;124minvalid value (nan) encountered in \u001b[39m\u001b[38;5;132;01m{\u001b[39;00mname\u001b[38;5;132;01m}\u001b[39;00m\u001b[38;5;124m\"\u001b[39m)\n\u001b[1;32m    683\u001b[0m   \u001b[38;5;28;01mif\u001b[39;00m config\u001b[38;5;241m.\u001b[39mjax_debug_infs \u001b[38;5;129;01mand\u001b[39;00m np\u001b[38;5;241m.\u001b[39many(np\u001b[38;5;241m.\u001b[39misinf(buf\u001b[38;5;241m.\u001b[39mto_py())):\n\u001b[1;32m    684\u001b[0m     \u001b[38;5;28;01mraise\u001b[39;00m \u001b[38;5;167;01mFloatingPointError\u001b[39;00m(\u001b[38;5;124mf\u001b[39m\u001b[38;5;124m\"\u001b[39m\u001b[38;5;124minvalid value (inf) encountered in \u001b[39m\u001b[38;5;132;01m{\u001b[39;00mname\u001b[38;5;132;01m}\u001b[39;00m\u001b[38;5;124m\"\u001b[39m)\n",
            "\u001b[0;31mFloatingPointError\u001b[0m: invalid value (nan) encountered in div"
          ]
        }
      ]
    },
    {
      "cell_type": "markdown",
      "source": [
        "## Good JAX libraries\n",
        "\n",
        "* Flax, Haiku - Neural networks in JAX\n",
        "* NumPyro - Probabilistic programming in JAX\n",
        "* BlackJAX - MCMC in JAX\n",
        "* Jraph - Graph neural networks in JAX\n",
        "* tinygp - Gaussian processes in JAX\n",
        "* tensorflow_probability.substrates.jax - Power of Tensorflow Probability in JAX"
      ],
      "metadata": {
        "id": "1Q0-DKf2gK1Q"
      }
    }
  ]
}