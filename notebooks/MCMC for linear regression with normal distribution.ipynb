{
 "cells": [
  {
   "cell_type": "markdown",
   "id": "XpF7XVH01h0J",
   "metadata": {
    "id": "XpF7XVH01h0J",
    "slideshow": {
     "slide_type": "slide"
    }
   },
   "source": [
    "# MCMC for Linear regression with normal distribution"
   ]
  },
  {
   "cell_type": "code",
   "execution_count": 1,
   "id": "f7cd57e1",
   "metadata": {
    "colab": {
     "background_save": true,
     "base_uri": "https://localhost:8080/"
    },
    "id": "f7cd57e1",
    "outputId": "9b170267-b352-4ba3-ad97-c971e2e351a7",
    "slideshow": {
     "slide_type": "slide"
    }
   },
   "outputs": [
    {
     "name": "stderr",
     "output_type": "stream",
     "text": [
      "2022-09-09 15:11:15.496629: W tensorflow/stream_executor/platform/default/dso_loader.cc:64] Could not load dynamic library 'libcudart.so.11.0'; dlerror: libcudart.so.11.0: cannot open shared object file: No such file or directory\n",
      "WARNING:absl:No GPU/TPU found, falling back to CPU. (Set TF_CPP_MIN_LOG_LEVEL=0 and rerun for more info.)\n"
     ]
    }
   ],
   "source": [
    "# import libraries\n",
    "import jax\n",
    "import jax.numpy as jnp\n",
    "import tensorflow_probability.substrates.jax as tfp\n",
    "tfd = tfp.distributions\n",
    "try:\n",
    "    import blackjax\n",
    "except:\n",
    "    %pip install -qq blackjax\n",
    "    import blackjax\n",
    "import matplotlib.pyplot as plt\n",
    "import pickle\n",
    "import logging\n",
    "from rmh import rmh_inference_loop,plot_rmh\n",
    "logger = logging.getLogger()\n",
    "class CheckTypesFilter(logging.Filter):\n",
    "    def filter(self, record):\n",
    "        return \"check_types\" not in record.getMessage()\n",
    "logger.addFilter(CheckTypesFilter())\n",
    "key = jax.random.PRNGKey(5)"
   ]
  },
  {
   "cell_type": "markdown",
   "id": "wlB_Cc7wu84Q",
   "metadata": {
    "id": "wlB_Cc7wu84Q"
   },
   "source": [
    "Lets generate samples now."
   ]
  },
  {
   "cell_type": "code",
   "execution_count": 2,
   "id": "06457aaf",
   "metadata": {},
   "outputs": [
    {
     "data": {
      "text/plain": [
       "<matplotlib.collections.PathCollection at 0x7f4a65df33d0>"
      ]
     },
     "execution_count": 2,
     "metadata": {},
     "output_type": "execute_result"
    },
    {
     "data": {
      "image/png": "[encoded data removed]",
      "text/plain": [
       "<Figure size 432x288 with 1 Axes>"
      ]
     },
     "metadata": {
      "needs_background": "light"
     },
     "output_type": "display_data"
    }
   ],
   "source": [
    "with open(\"linear_regression\",'rb') as f:\n",
    "    data = pickle.load(f)\n",
    "x = jnp.array(data['data']['x'])\n",
    "def identity_trans(x):\n",
    "    return jnp.append(jnp.ones((x.shape[0],1)),x,axis=1)\n",
    "m = x.shape[0]\n",
    "x_trans = identity_trans(x)\n",
    "y = jnp.array(data['data']['y'])\n",
    "prior_mean = jnp.array(data['prior']['mean'])\n",
    "prior_var = jnp.array(data['prior']['var'])\n",
    "noise_var = data['noise_variance']\n",
    "plt.scatter(x,y)"
   ]
  },
  {
   "cell_type": "markdown",
   "id": "53a95f8b",
   "metadata": {},
   "source": [
    "$y = mx + c$\n",
    "\n",
    "parameters m,c"
   ]
  },
  {
   "cell_type": "code",
   "execution_count": 3,
   "id": "2f20bc00",
   "metadata": {
    "colab": {
     "base_uri": "https://localhost:8080/"
    },
    "id": "2f20bc00",
    "outputId": "82296485-2d07-4285-e9b0-fd0801a6c5ff"
   },
   "outputs": [],
   "source": [
    "def create_log_postfn(x_trans,y,prior_mean,prior_var):\n",
    "  n = x_trans.shape[1]\n",
    "  prior_normal = tfd.MultivariateNormalFullCovariance(\n",
    "      loc = prior_mean,covariance_matrix= prior_var\n",
    "  )\n",
    "  y = y.reshape(m,)\n",
    "\n",
    "  def log_postfn(theta):\n",
    "    # from the above equation\n",
    "    # log_prior = -(x/lamda)**k+ (k-1)*(jnp.log(x)-jnp.log(lamda)) +jnp.log(k/lamda)\n",
    "    theta = theta['theta']\n",
    "    log_prior = prior_normal.log_prob(theta)\n",
    "    # log_likelihood\n",
    "    mean = (x_trans@theta.reshape(n,1)).reshape(m,)\n",
    "    likelihood_normal = tfd.MultivariateNormalFullCovariance(mean,jnp.identity(m))\n",
    "    log_like = jnp.array(likelihood_normal.log_prob(y))\n",
    "    return (log_like+log_prior)\n",
    "    \n",
    "  return log_postfn\n",
    "log_postfn = create_log_postfn(x_trans,y,prior_mean,prior_var)"
   ]
  },
  {
   "cell_type": "markdown",
   "id": "3bGtxGzO5JMI",
   "metadata": {
    "id": "3bGtxGzO5JMI"
   },
   "source": [
    "RMH here stands for Random walk Metropolis Hastings.\n",
    "We will use the blackjax implementation of it.\n",
    "\n",
    "Things we have to do using jax\n",
    "\n",
    "\n",
    "*   rmh takes the log of posterior pdf and sigma is the walk length parameter. So give them.\n",
    "*   Then define the initial state of the rmh. This is done by just giving the initial value of whatever we are trying to estimate.\n",
    "\n",
    "\n"
   ]
  },
  {
   "cell_type": "code",
   "execution_count": 7,
   "id": "8544a279",
   "metadata": {},
   "outputs": [
    {
     "data": {
      "text/plain": [
       "(DeviceArray([14. ,  7.3], dtype=float32),\n",
       " DeviceArray([[10.,  0.],\n",
       "              [ 0., 10.]], dtype=float32))"
      ]
     },
     "execution_count": 7,
     "metadata": {},
     "output_type": "execute_result"
    }
   ],
   "source": [
    "prior_mean, prior_var"
   ]
  },
  {
   "cell_type": "code",
   "execution_count": 8,
   "id": "EYGgJa0yPb4d",
   "metadata": {
    "colab": {
     "base_uri": "https://localhost:8080/"
    },
    "id": "EYGgJa0yPb4d",
    "outputId": "1c30606b-9808-40ab-df69-79a8dc163644"
   },
   "outputs": [],
   "source": [
    "initial = {\"theta\":(prior_mean)}"
   ]
  },
  {
   "cell_type": "markdown",
   "id": "FY6Aczrk6Vc1",
   "metadata": {
    "id": "FY6Aczrk6Vc1"
   },
   "source": [
    "Lets generate samples from posterior distribution now."
   ]
  },
  {
   "cell_type": "markdown",
   "id": "U9HAb0-N6bs9",
   "metadata": {
    "id": "U9HAb0-N6bs9"
   },
   "source": [
    "lets now see how it is varying. As we can see from the below figure, the parameter is changing a lot durin the first 300 iterations and then having a stationary distribution. So we eliminate the first 300 samples and then just take a target distribution as the emperical distribution of the samples."
   ]
  },
  {
   "cell_type": "code",
   "execution_count": 9,
   "id": "53c635f8",
   "metadata": {},
   "outputs": [],
   "source": [
    "n = 2\n",
    "states = rmh_inference_loop(log_postfn,jnp.identity(n) * 0.7,initial,20_000)"
   ]
  },
  {
   "cell_type": "code",
   "execution_count": 10,
   "id": "9495ab86",
   "metadata": {},
   "outputs": [
    {
     "data": {
      "image/png": "[encoded data removed]",
      "text/plain": [
       "<Figure size 576x216 with 2 Axes>"
      ]
     },
     "metadata": {
      "needs_background": "light"
     },
     "output_type": "display_data"
    },
    {
     "data": {
      "image/png": "[encoded data removed]",
      "text/plain": [
       "<Figure size 576x216 with 2 Axes>"
      ]
     },
     "metadata": {
      "needs_background": "light"
     },
     "output_type": "display_data"
    }
   ],
   "source": [
    "burnin = 300\n",
    "plot_rmh(states,burnin,contains_arrays=True)"
   ]
  },
  {
   "cell_type": "code",
   "execution_count": 11,
   "id": "6e93e121",
   "metadata": {},
   "outputs": [],
   "source": [
    "def posterior(phi,m_0, t, S_0, beta, return_inverse=False):\n",
    "    \"\"\"Computes mean and covariance matrix of the posterior distribution.\"\"\"\n",
    "    S_N_inv = jnp.linalg.inv(S_0) + beta * phi.T.dot(phi)\n",
    "    S_N = jnp.linalg.inv(S_N_inv)\n",
    "    # print(S_N.shape,m_0.shape)\n",
    "    m_N =S_N@(jnp.linalg.inv(S_0)@m_0+beta *phi.T.dot(t))\n",
    "\n",
    "    if return_inverse:\n",
    "        return m_N, S_N, S_N_inv\n",
    "    else:\n",
    "        return m_N, S_N"
   ]
  },
  {
   "cell_type": "code",
   "execution_count": 12,
   "id": "1703e13b",
   "metadata": {},
   "outputs": [],
   "source": [
    "mean,cov = posterior(x_trans, prior_mean.reshape((-1,1)), y.reshape((-1,1)), prior_var,1)"
   ]
  },
  {
   "cell_type": "code",
   "execution_count": 13,
   "id": "bd669e8e",
   "metadata": {},
   "outputs": [
    {
     "data": {
      "text/plain": [
       "<matplotlib.legend.Legend at 0x7f498031fb90>"
      ]
     },
     "execution_count": 13,
     "metadata": {},
     "output_type": "execute_result"
    },
    {
     "data": {
      "image/png": "[encoded data removed]",
      "text/plain": [
       "<Figure size 432x288 with 1 Axes>"
      ]
     },
     "metadata": {
      "needs_background": "light"
     },
     "output_type": "display_data"
    }
   ],
   "source": [
    "import arviz as az\n",
    "import seaborn as sns\n",
    "x_lin_param0 = jnp.linspace(2.5,5)\n",
    "true_normal1 = tfd.Normal(mean[0],jnp.sqrt(cov[0,0]))\n",
    "theoretical_pdf1 = true_normal1.prob(x_lin_param0)\n",
    "plt.plot(x_lin_param0,theoretical_pdf1,label='theoretical_pdf1')\n",
    "sns.kdeplot(states.position['theta'][burnin:,0],label=\"predicted\",color='orange')\n",
    "# az.plot_dist(states.position['theta'][burnin:,0],label=\"predicted\",color='red')\n",
    "sns.despine()\n",
    "plt.xlabel('theta 0')\n",
    "plt.legend()"
   ]
  },
  {
   "cell_type": "markdown",
   "id": "51d42145",
   "metadata": {},
   "source": [
    "$y = N(\\theta_i^TX,\\sigma)$\n",
    "\n",
    "I am sampling from this distribution as y."
   ]
  },
  {
   "cell_type": "code",
   "execution_count": 15,
   "id": "e8c9db19",
   "metadata": {},
   "outputs": [],
   "source": [
    "seed = jax.random.PRNGKey(5)\n",
    "\n",
    "\n",
    "def predict_mcmc(seed,x_test):\n",
    "    sample_from_each = 10\n",
    "    def one_step(carry, state):\n",
    "        theta = state.position['theta']\n",
    "        mean = (x_test@theta.reshape(n,1)).reshape(x_test.shape[0],)\n",
    "        likelihood_normal = tfd.MultivariateNormalFullCovariance(mean,jnp.identity(x_test.shape[0]))\n",
    "        y = likelihood_normal.sample(seed=carry,sample_shape=sample_from_each)\n",
    "        carry,_ = jax.random.split(seed)\n",
    "        return carry, y\n",
    "\n",
    "    _, y_stacks = jax.lax.scan(one_step, seed, states)\n",
    "    y_stacks = y_stacks.reshape(-1,x_test.shape[0])\n",
    "\n",
    "\n",
    "    mean = y_stacks.mean(axis=0)\n",
    "    std_dev = y_stacks.std(axis=0)\n",
    "    return mean, std_dev\n",
    "\n",
    "\n",
    "# mcmc_pred_mean, mcmc_pred_sigma = mcmc_pred_mean.reshape(xx.shape), mcmc_pred_sigma.reshape(xx.shape)"
   ]
  },
  {
   "cell_type": "code",
   "execution_count": 16,
   "id": "c4c17aec",
   "metadata": {},
   "outputs": [],
   "source": [
    "x_linspace = jnp.linspace(-10,10,100)\n",
    "x_trans_linspace = identity_trans(x_linspace.reshape((-1,1)))\n",
    "mcmc_pred_mean, mcmc_pred_sigma = predict_mcmc(seed,x_trans_linspace)"
   ]
  },
  {
   "cell_type": "code",
   "execution_count": 17,
   "id": "2a4d961d",
   "metadata": {},
   "outputs": [
    {
     "data": {
      "text/plain": [
       "(100,)"
      ]
     },
     "execution_count": 17,
     "metadata": {},
     "output_type": "execute_result"
    }
   ],
   "source": [
    "x_linspace.shape"
   ]
  },
  {
   "cell_type": "code",
   "execution_count": 18,
   "id": "64d873ca",
   "metadata": {},
   "outputs": [
    {
     "data": {
      "text/plain": [
       "(100,)"
      ]
     },
     "execution_count": 18,
     "metadata": {},
     "output_type": "execute_result"
    }
   ],
   "source": [
    "mcmc_pred_mean.shape"
   ]
  },
  {
   "cell_type": "code",
   "execution_count": 19,
   "id": "cf048f3c",
   "metadata": {},
   "outputs": [
    {
     "data": {
      "text/plain": [
       "<matplotlib.legend.Legend at 0x7f498016c750>"
      ]
     },
     "execution_count": 19,
     "metadata": {},
     "output_type": "execute_result"
    },
    {
     "data": {
      "image/png": "[encoded data removed]",
      "text/plain": [
       "<Figure size 432x288 with 1 Axes>"
      ]
     },
     "metadata": {
      "needs_background": "light"
     },
     "output_type": "display_data"
    }
   ],
   "source": [
    "plt.plot(x_linspace,mcmc_pred_mean,label=\"mean prediction\")\n",
    "plt.fill_between(x_linspace,mcmc_pred_mean+mcmc_pred_sigma,mcmc_pred_mean-mcmc_pred_sigma,alpha=0.3,label=\"uncertainity\")\n",
    "plt.scatter(data['data']['x'],jnp.array(data['data']['y']),label='given')\n",
    "plt.legend()"
   ]
  },
  {
   "cell_type": "code",
   "execution_count": 10,
   "id": "c5b2d902",
   "metadata": {},
   "outputs": [],
   "source": [
    "from pandas import to_pickle\n",
    "to_pickle(states,\"../results/linear_regression/results_data/MCMC_Blackjax\")"
   ]
  },
  {
   "cell_type": "markdown",
   "id": "DtXwa3vM7esC",
   "metadata": {
    "id": "DtXwa3vM7esC"
   },
   "source": [
    "Now lets see how well the samples are fitting our initial data.\n",
    "\n",
    "I will just compare with the actual pdf."
   ]
  },
  {
   "cell_type": "markdown",
   "id": "4532972d",
   "metadata": {},
   "source": []
  }
 ],
 "metadata": {
  "celltoolbar": "Slideshow",
  "colab": {
   "collapsed_sections": [],
   "name": "MCMC for weibull prior and poisson likelihood.ipynb",
   "provenance": []
  },
  "kernelspec": {
   "display_name": "Python 3 (ipykernel)",
   "language": "python",
   "name": "python3"
  },
  "language_info": {
   "codemirror_mode": {
    "name": "ipython",
    "version": 3
   },
   "file_extension": ".py",
   "mimetype": "text/x-python",
   "name": "python",
   "nbconvert_exporter": "python",
   "pygments_lexer": "ipython3",
   "version": "3.7.13"
  },
  "vscode": {
   "interpreter": {
    "hash": "d7a46ea580895d57260a9a64676df9462f8dfcc1131b1dfab2c8fd1556928d0c"
   }
  },
  "widgets": {
   "application/vnd.jupyter.widget-state+json": {
    "019166e153cb4c99847c0a002f73c5e8": {
     "model_module": "@jupyter-widgets/base",
     "model_module_version": "1.2.0",
     "model_name": "LayoutModel",
     "state": {
      "_model_module": "@jupyter-widgets/base",
      "_model_module_version": "1.2.0",
      "_model_name": "LayoutModel",
      "_view_count": null,
      "_view_module": "@jupyter-widgets/base",
      "_view_module_version": "1.2.0",
      "_view_name": "LayoutView",
      "align_content": null,
      "align_items": null,
      "align_self": null,
      "border": null,
      "bottom": null,
      "display": null,
      "flex": null,
      "flex_flow": null,
      "grid_area": null,
      "grid_auto_columns": null,
      "grid_auto_flow": null,
      "grid_auto_rows": null,
      "grid_column": null,
      "grid_gap": null,
      "grid_row": null,
      "grid_template_areas": null,
      "grid_template_columns": null,
      "grid_template_rows": null,
      "height": null,
      "justify_content": null,
      "justify_items": null,
      "left": null,
      "margin": null,
      "max_height": null,
      "max_width": null,
      "min_height": null,
      "min_width": null,
      "object_fit": null,
      "object_position": null,
      "order": null,
      "overflow": null,
      "overflow_x": null,
      "overflow_y": null,
      "padding": null,
      "right": null,
      "top": null,
      "visibility": null,
      "width": null
     }
    },
    "155d8877766f4940ba5bd0af1a3cbadd": {
     "model_module": "@jupyter-widgets/controls",
     "model_module_version": "1.5.0",
     "model_name": "FloatSliderModel",
     "state": {
      "_dom_classes": [],
      "_model_module": "@jupyter-widgets/controls",
      "_model_module_version": "1.5.0",
      "_model_name": "FloatSliderModel",
      "_view_count": null,
      "_view_module": "@jupyter-widgets/controls",
      "_view_module_version": "1.5.0",
      "_view_name": "FloatSliderView",
      "continuous_update": true,
      "description": "k",
      "description_tooltip": null,
      "disabled": false,
      "layout": "IPY_MODEL_38de907986644952a4c9e8bfad0d54b3",
      "max": 20,
      "min": 0,
      "orientation": "horizontal",
      "readout": true,
      "readout_format": ".2f",
      "step": 0.2,
      "style": "IPY_MODEL_4c1f21364c6b47d588f2740251790752",
      "value": 15
     }
    },
    "2461a87c5e0249929c4b4ba9c9bbcde0": {
     "model_module": "@jupyter-widgets/controls",
     "model_module_version": "1.5.0",
     "model_name": "FloatSliderModel",
     "state": {
      "_dom_classes": [],
      "_model_module": "@jupyter-widgets/controls",
      "_model_module_version": "1.5.0",
      "_model_name": "FloatSliderModel",
      "_view_count": null,
      "_view_module": "@jupyter-widgets/controls",
      "_view_module_version": "1.5.0",
      "_view_name": "FloatSliderView",
      "continuous_update": true,
      "description": "lamda",
      "description_tooltip": null,
      "disabled": false,
      "layout": "IPY_MODEL_019166e153cb4c99847c0a002f73c5e8",
      "max": 20,
      "min": 0,
      "orientation": "horizontal",
      "readout": true,
      "readout_format": ".2f",
      "step": 0.2,
      "style": "IPY_MODEL_95d0128dcba44a368ec206b3680192e3",
      "value": 10
     }
    },
    "38de907986644952a4c9e8bfad0d54b3": {
     "model_module": "@jupyter-widgets/base",
     "model_module_version": "1.2.0",
     "model_name": "LayoutModel",
     "state": {
      "_model_module": "@jupyter-widgets/base",
      "_model_module_version": "1.2.0",
      "_model_name": "LayoutModel",
      "_view_count": null,
      "_view_module": "@jupyter-widgets/base",
      "_view_module_version": "1.2.0",
      "_view_name": "LayoutView",
      "align_content": null,
      "align_items": null,
      "align_self": null,
      "border": null,
      "bottom": null,
      "display": null,
      "flex": null,
      "flex_flow": null,
      "grid_area": null,
      "grid_auto_columns": null,
      "grid_auto_flow": null,
      "grid_auto_rows": null,
      "grid_column": null,
      "grid_gap": null,
      "grid_row": null,
      "grid_template_areas": null,
      "grid_template_columns": null,
      "grid_template_rows": null,
      "height": null,
      "justify_content": null,
      "justify_items": null,
      "left": null,
      "margin": null,
      "max_height": null,
      "max_width": null,
      "min_height": null,
      "min_width": null,
      "object_fit": null,
      "object_position": null,
      "order": null,
      "overflow": null,
      "overflow_x": null,
      "overflow_y": null,
      "padding": null,
      "right": null,
      "top": null,
      "visibility": null,
      "width": null
     }
    },
    "4c1f21364c6b47d588f2740251790752": {
     "model_module": "@jupyter-widgets/controls",
     "model_module_version": "1.5.0",
     "model_name": "SliderStyleModel",
     "state": {
      "_model_module": "@jupyter-widgets/controls",
      "_model_module_version": "1.5.0",
      "_model_name": "SliderStyleModel",
      "_view_count": null,
      "_view_module": "@jupyter-widgets/base",
      "_view_module_version": "1.2.0",
      "_view_name": "StyleView",
      "description_width": "",
      "handle_color": null
     }
    },
    "778a99cdadb54f7f8b890deb00f1c273": {
     "model_module": "@jupyter-widgets/base",
     "model_module_version": "1.2.0",
     "model_name": "LayoutModel",
     "state": {
      "_model_module": "@jupyter-widgets/base",
      "_model_module_version": "1.2.0",
      "_model_name": "LayoutModel",
      "_view_count": null,
      "_view_module": "@jupyter-widgets/base",
      "_view_module_version": "1.2.0",
      "_view_name": "LayoutView",
      "align_content": null,
      "align_items": null,
      "align_self": null,
      "border": null,
      "bottom": null,
      "display": null,
      "flex": null,
      "flex_flow": null,
      "grid_area": null,
      "grid_auto_columns": null,
      "grid_auto_flow": null,
      "grid_auto_rows": null,
      "grid_column": null,
      "grid_gap": null,
      "grid_row": null,
      "grid_template_areas": null,
      "grid_template_columns": null,
      "grid_template_rows": null,
      "height": null,
      "justify_content": null,
      "justify_items": null,
      "left": null,
      "margin": null,
      "max_height": null,
      "max_width": null,
      "min_height": null,
      "min_width": null,
      "object_fit": null,
      "object_position": null,
      "order": null,
      "overflow": null,
      "overflow_x": null,
      "overflow_y": null,
      "padding": null,
      "right": null,
      "top": null,
      "visibility": null,
      "width": null
     }
    },
    "82ff4076beed44019e87624b8e4b0c72": {
     "model_module": "@jupyter-widgets/base",
     "model_module_version": "1.2.0",
     "model_name": "LayoutModel",
     "state": {
      "_model_module": "@jupyter-widgets/base",
      "_model_module_version": "1.2.0",
      "_model_name": "LayoutModel",
      "_view_count": null,
      "_view_module": "@jupyter-widgets/base",
      "_view_module_version": "1.2.0",
      "_view_name": "LayoutView",
      "align_content": null,
      "align_items": null,
      "align_self": null,
      "border": null,
      "bottom": null,
      "display": null,
      "flex": null,
      "flex_flow": null,
      "grid_area": null,
      "grid_auto_columns": null,
      "grid_auto_flow": null,
      "grid_auto_rows": null,
      "grid_column": null,
      "grid_gap": null,
      "grid_row": null,
      "grid_template_areas": null,
      "grid_template_columns": null,
      "grid_template_rows": null,
      "height": null,
      "justify_content": null,
      "justify_items": null,
      "left": null,
      "margin": null,
      "max_height": null,
      "max_width": null,
      "min_height": null,
      "min_width": null,
      "object_fit": null,
      "object_position": null,
      "order": null,
      "overflow": null,
      "overflow_x": null,
      "overflow_y": null,
      "padding": null,
      "right": null,
      "top": null,
      "visibility": null,
      "width": null
     }
    },
    "95d0128dcba44a368ec206b3680192e3": {
     "model_module": "@jupyter-widgets/controls",
     "model_module_version": "1.5.0",
     "model_name": "SliderStyleModel",
     "state": {
      "_model_module": "@jupyter-widgets/controls",
      "_model_module_version": "1.5.0",
      "_model_name": "SliderStyleModel",
      "_view_count": null,
      "_view_module": "@jupyter-widgets/base",
      "_view_module_version": "1.2.0",
      "_view_name": "StyleView",
      "description_width": "",
      "handle_color": null
     }
    },
    "b569b37e4b1a4976a90a5d9864582429": {
     "model_module": "@jupyter-widgets/controls",
     "model_module_version": "1.5.0",
     "model_name": "VBoxModel",
     "state": {
      "_dom_classes": [
       "widget-interact"
      ],
      "_model_module": "@jupyter-widgets/controls",
      "_model_module_version": "1.5.0",
      "_model_name": "VBoxModel",
      "_view_count": null,
      "_view_module": "@jupyter-widgets/controls",
      "_view_module_version": "1.5.0",
      "_view_name": "VBoxView",
      "box_style": "",
      "children": [
       "IPY_MODEL_2461a87c5e0249929c4b4ba9c9bbcde0",
       "IPY_MODEL_155d8877766f4940ba5bd0af1a3cbadd",
       "IPY_MODEL_bdbb4e645e134a7d9339cce6741e913c"
      ],
      "layout": "IPY_MODEL_82ff4076beed44019e87624b8e4b0c72"
     }
    },
    "bdbb4e645e134a7d9339cce6741e913c": {
     "model_module": "@jupyter-widgets/output",
     "model_module_version": "1.0.0",
     "model_name": "OutputModel",
     "state": {
      "_dom_classes": [],
      "_model_module": "@jupyter-widgets/output",
      "_model_module_version": "1.0.0",
      "_model_name": "OutputModel",
      "_view_count": null,
      "_view_module": "@jupyter-widgets/output",
      "_view_module_version": "1.0.0",
      "_view_name": "OutputView",
      "layout": "IPY_MODEL_778a99cdadb54f7f8b890deb00f1c273",
      "msg_id": "",
      "outputs": [
       {
        "name": "stderr",
        "output_type": "stream",
        "text": [
         "WARNING:root:The use of `check_types` is deprecated and does not have any effect.\n"
        ]
       },
       {
        "name": "stderr",
        "output_type": "stream",
        "text": [
         "WARNING:root:The use of `check_types` is deprecated and does not have any effect.\n"
        ]
       },
       {
        "name": "stderr",
        "output_type": "stream",
        "text": [
         "WARNING:root:The use of `check_types` is deprecated and does not have any effect.\n"
        ]
       },
       {
        "name": "stderr",
        "output_type": "stream",
        "text": [
         "WARNING:root:The use of `check_types` is deprecated and does not have any effect.\n"
        ]
       },
       {
        "name": "stderr",
        "output_type": "stream",
        "text": [
         "WARNING:root:The use of `check_types` is deprecated and does not have any effect.\n"
        ]
       },
       {
        "name": "stderr",
        "output_type": "stream",
        "text": [
         "WARNING:root:The use of `check_types` is deprecated and does not have any effect.\n"
        ]
       },
       {
        "name": "stderr",
        "output_type": "stream",
        "text": [
         "WARNING:root:The use of `check_types` is deprecated and does not have any effect.\n"
        ]
       },
       {
        "name": "stderr",
        "output_type": "stream",
        "text": [
         "WARNING:root:The use of `check_types` is deprecated and does not have any effect.\n"
        ]
       },
       {
        "data": {
         "image/png": "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\n",
         "text/plain": "<Figure size 432x288 with 1 Axes>"
        },
        "metadata": {
         "needs_background": "light"
        },
        "output_type": "display_data"
       }
      ]
     }
    }
   }
  }
 },
 "nbformat": 4,
 "nbformat_minor": 5
}
